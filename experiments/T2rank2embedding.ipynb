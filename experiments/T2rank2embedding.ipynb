{
 "cells": [
  {
   "cell_type": "code",
   "execution_count": 1,
   "metadata": {
    "colab": {
     "base_uri": "https://localhost:8080/"
    },
    "id": "cKvreyQCaWEE",
    "outputId": "25810be9-c01b-4cb5-8762-9bb58fd76ebd"
   },
   "outputs": [],
   "source": [
    "#Should take ~30 min to run\n",
    "import sys\n",
    "\n",
    "sys.path.insert(0, '../../PSC')"
   ]
  },
  {
   "cell_type": "code",
   "execution_count": 2,
   "metadata": {
    "colab": {
     "base_uri": "https://localhost:8080/"
    },
    "id": "QvierhJ0VBcA",
    "outputId": "d0181e46-0e4e-43a8-db4a-6e12e0c1bc13"
   },
   "outputs": [],
   "source": [
    "import numpy as np\n",
    "import matplotlib.pyplot as plt\n",
    "import matplotlib\n",
    "from scipy import stats\n",
    "import pandas as pd\n",
    "from tqdm import tqdm\n",
    "\n",
    "from pymanopt.manifolds.stiefel import Stiefel\n",
    "\n",
    "from PSC.utils import dist_Gr, dist_St\n",
    "from PSC.projections import manopt_alpha, PCA, pi_alpha_all, yhat_alpha_all"
   ]
  },
  {
   "cell_type": "markdown",
   "metadata": {
    "id": "9KdZpyjOZy6B"
   },
   "source": [
    "# Construct Covers and Partitions of Unity on $S^1, S^1\\times S^1$"
   ]
  },
  {
   "cell_type": "markdown",
   "metadata": {
    "id": "PBC1E5_VZgWF"
   },
   "source": [
    "## Partitions of unity on $S^1$"
   ]
  },
  {
   "cell_type": "markdown",
   "metadata": {
    "id": "d9dT6D_9weOr"
   },
   "source": [
    "Cover the circle with $N$ intervals $U_i = \\left(\\frac{i}{N}, \\frac{i+2}{N}\\right), i=0,\\dots,N-1$ where values are taken mod 1.\n",
    "\n",
    "For $x\\in[0,1]$, we find the $U_i$ with largest $i$ containing it. By construction it will also lie in either $U_{i-1}$ or $U_{i+1}$ where subscripts are read mod $N$."
   ]
  },
  {
   "cell_type": "markdown",
   "metadata": {
    "id": "YWkj_ddv-9H3"
   },
   "source": [
    "First we make a vectorized version of the bump function. Input arrays of lower/upper bounds, both shape `(bounds,)` and any array of points `(num_points,)`. Output should be of shape `(num_points, bounds)`. $i,j$th entry is the value of the bump function supported on `lower_bound[i], upper_bound[i]` evaluated at `point[j]`."
   ]
  },
  {
   "cell_type": "code",
   "execution_count": 3,
   "metadata": {
    "id": "WXQoP6-sbrLg"
   },
   "outputs": [],
   "source": [
    "def psi_on_line(lower_bounds, upper_bounds, points): #Values of bump functions supported on arrays lower_bounds, upper_bounds, evaluated on array points\n",
    "    out = np.zeros((max(points.shape),max(lower_bounds.shape)))\n",
    "    mask = (points[:, None] >= lower_bounds) & (points[:, None] <= upper_bounds) #When points outside interval, keep zero\n",
    "    out[mask]=np.cos(np.pi*( #Otherwise, evaluate bump function at those points\n",
    "            np.repeat(points,mask.sum(axis=1)) #Equivalent of (np.cos(np.pi*(point-(lower+upper)/2)/(upper-lower)))**2, broadcasted appropriately\n",
    "            -(np.broadcast_to(upper_bounds, mask.shape)[mask]\n",
    "              +np.broadcast_to(lower_bounds, mask.shape)[mask])/2)/(np.broadcast_to(upper_bounds, mask.shape)[mask]-np.broadcast_to(lower_bounds, mask.shape)[mask]))**2\n",
    "    return out"
   ]
  },
  {
   "cell_type": "code",
   "execution_count": 4,
   "metadata": {
    "id": "60CDyOjqWFx6"
   },
   "outputs": [],
   "source": [
    "def psi_on_circle(lower_bounds, upper_bounds, points): #Handles the case when the lower_bounds, upper_bounds are circle-valued\n",
    "    output = np.zeros((max(points.shape), max(lower_bounds.shape)))\n",
    "\n",
    "    circle_ints = (lower_bounds >= upper_bounds)\n",
    "    circle_lower_bounds = lower_bounds[circle_ints]\n",
    "    circle_upper_bounds = upper_bounds[circle_ints]\n",
    "    circle_ints_output_mask = np.broadcast_to(circle_ints.reshape(1,len(upper_bounds)), output.shape) #apply to output\n",
    "\n",
    "    upper_boundary_cond = points > 0.5 #Distinguishes whether it will need +1 when evaluated on a circle int, or not\n",
    "    upper_boundary_points = points[upper_boundary_cond]\n",
    "    upper_boundary_output_mask = np.broadcast_to(upper_boundary_cond.reshape(len(points),1), output.shape) #apply to output, only shows upper boundary pts\n",
    "\n",
    "    #Only show nonzero line ints\n",
    "    line_ints = (lower_bounds <= upper_bounds)\n",
    "    line_ints_output_mask = np.broadcast_to(line_ints.reshape(1,len(upper_bounds)),output.shape)\n",
    "\n",
    "    #Only show circle ints\n",
    "    circle_ints = (lower_bounds >= upper_bounds)\n",
    "    circle_ints_output_mask = np.broadcast_to(circle_ints.reshape(1, len(upper_bounds)), output.shape)\n",
    "\n",
    "    def shift_bound_psi(c_lower_bounds, c_upper_bounds, c_points):\n",
    "      return psi_on_line(c_lower_bounds, c_upper_bounds+1, c_points).ravel()\n",
    "\n",
    "    def shift_bound_point_psi(c_lower_bounds, c_upper_bounds, c_points):\n",
    "      return psi_on_line(c_lower_bounds, c_upper_bounds+1, c_points+1).ravel()\n",
    "\n",
    "    output[line_ints_output_mask] = psi_on_line(lower_bounds[line_ints], upper_bounds[line_ints], points).ravel()\n",
    "\n",
    "    output[circle_ints_output_mask & upper_boundary_output_mask] = shift_bound_psi(circle_lower_bounds, circle_upper_bounds, points[upper_boundary_cond])\n",
    "\n",
    "    output[circle_ints_output_mask & ~upper_boundary_output_mask] = shift_bound_point_psi(circle_lower_bounds, circle_upper_bounds, points[~upper_boundary_cond])\n",
    "\n",
    "    return output"
   ]
  },
  {
   "cell_type": "markdown",
   "metadata": {
    "id": "kuWpNvdTZjZM"
   },
   "source": [
    "## Partitions of Unity on $S^1\\times S^1$"
   ]
  },
  {
   "cell_type": "markdown",
   "metadata": {
    "id": "pkRLAPM-evTY"
   },
   "source": [
    "Given $(x_1, x_2)$ on $T^2$:\n",
    "* Evaluate first coord $x_1$ on all $\\phi_i: S^1\\to \\mathbb{R}$\n",
    "* Evaluate second coord $x_2$ on all $\\phi_i: S^1\\to \\mathbb{R}$\n",
    "* Outer product is matrix giving values of $\\phi_i(x_1)\\cdot \\phi_j(x_2)$ for every pair of $S^1$ partition of unity functions"
   ]
  },
  {
   "cell_type": "code",
   "execution_count": 5,
   "metadata": {
    "id": "HmMXKi6RfoYn"
   },
   "outputs": [],
   "source": [
    "def psi_on_t2(s1_open_sets, points):\n",
    "  num_points = points.shape[0]\n",
    "  num_s1_open_sets = s1_open_sets.shape[0]\n",
    "\n",
    "  #Separate s1_open_sets into upper and lower bounds\n",
    "  lower_bounds = s1_open_sets[:,0]\n",
    "  upper_bounds = s1_open_sets[:,1]\n",
    "\n",
    "  #Separate points into first and second coordinates\n",
    "  x1s = points[:,0]\n",
    "  x2s = points[:,1]\n",
    "\n",
    "  #First two coords are psi_circle outputs, (num_points, num_open_sets)\n",
    "  psi_x1_values = psi_on_circle(lower_bounds, upper_bounds, x1s)\n",
    "  psi_x2_values = psi_on_circle(lower_bounds, upper_bounds, x2s)\n",
    "\n",
    "  #outer product along num_points axis, with shape (num_points, num_s1_open_sets, num_s1_open_sets)\n",
    "  outer_prod = np.einsum('ij,ik->ijk',psi_x1_values, psi_x2_values)\n",
    "\n",
    "  #Return outer product normalized by sum of function values at point\n",
    "  sums = np.sum(outer_prod, axis=(1,2)).reshape(num_points, 1)\n",
    "  return np.einsum('ijk,il-> ijkl', outer_prod,1/sums).reshape(num_points,num_s1_open_sets,num_s1_open_sets)"
   ]
  },
  {
   "cell_type": "markdown",
   "metadata": {
    "id": "bHHPMl5qZI8y"
   },
   "source": [
    "# Construct Transition functions $\\Omega_{ij}$ and Embedding"
   ]
  },
  {
   "cell_type": "code",
   "execution_count": 6,
   "metadata": {
    "id": "4qU_zULlDcWa"
   },
   "outputs": [],
   "source": [
    "def t2_stiefel_embedding(points, s1_open_sets, bundle_type=\"mobius_plus_mobius\"):\n",
    "  num_points = points.shape[0] #max(points.shape)\n",
    "  num_s1_open_sets = s1_open_sets.shape[0]\n",
    "\n",
    "  #Create S1 transition matrix; doesn't matter that there are other 1's since partition of unity fcns will be zero\n",
    "  s1transition_matrix = np.ones((num_s1_open_sets, num_s1_open_sets))\n",
    "  lt_mask = np.tril_indices(num_s1_open_sets, k=-1)\n",
    "  s1transition_matrix[lt_mask]=-1\n",
    "  s1transition_matrix = s1transition_matrix.reshape(1,num_s1_open_sets, num_s1_open_sets)\n",
    "\n",
    "  #Create a list of endpoints for open intervals in cover\n",
    "  step_size = abs(s1_open_sets[0][0]-s1_open_sets[0][1])\n",
    "  circle_cutoffs = np.arange(0, 1, step_size)\n",
    "  N = int(2/step_size)\n",
    "\n",
    "  #Build T2 transition tensor; given two tuples (i,j)(k.l) get a pair (\\pm 1, \\pm 1) = (transition_matrix[i][k], transition_matrix[j][l])\n",
    "  t2transition = np.zeros((num_s1_open_sets,num_s1_open_sets,num_s1_open_sets,num_s1_open_sets,2,1))\n",
    "  for i in range(N):\n",
    "    for j in range(N):\n",
    "      for k in range(N):\n",
    "        for l in range(N):\n",
    "          t2transition[i,j,k,l,:,:] = np.array([s1transition_matrix[:,k,i], s1transition_matrix[:,l,j]])\n",
    "\n",
    "  #For each point, produce (num_s1_open_sets, num_s1_open_sets) with normalized values of psi_i*psi_j\n",
    "  sqrt_pou_values = np.sqrt(psi_on_t2(s1_open_sets, points)).reshape(num_points,N,N,1,1)\n",
    "\n",
    "  #For each point, find the lower cutoff of open set U_i with smallest i which contains x-coord of sampled point\n",
    "  sample_coord_1_lower_limit = np.searchsorted(circle_cutoffs, points[:,0])\n",
    "\n",
    "  #Same for y-coord\n",
    "  sample_coord_2_lower_limit = np.searchsorted(circle_cutoffs, points[:,1])\n",
    "\n",
    "  #For each sampled point, give a tuple (i,j) indicating a U_i\\times U_j it lies in\n",
    "  sample_points_open_set_index = np.array(list(zip(sample_coord_1_lower_limit.T, sample_coord_2_lower_limit.T))).reshape(num_points,2)\n",
    "  list_sample_points_indices = [list(tp) for tp in sample_points_open_set_index]\n",
    "\n",
    "  #Pre-allocate output\n",
    "  t2transition_values = np.zeros((num_points, num_s1_open_sets, num_s1_open_sets, 2, 2))\n",
    "\n",
    "  #Mask off-diagonal entries\n",
    "  block_mask = np.broadcast_to(np.eye(2,dtype=bool), (num_points, num_s1_open_sets, num_s1_open_sets, 2, 2))\n",
    "\n",
    "  #For each point lying in U(i,j) make its diagonal elts the pair t2_transition[i][j]\n",
    "  t2transition_values[block_mask] = t2transition[tuple(sample_points_open_set_index[:,0]),tuple(sample_points_open_set_index[:,1])].ravel()\n",
    "\n",
    "  #Broadcast pou_values to correct size\n",
    "  broadcasted_pou = np.broadcast_to(sqrt_pou_values, shape=(num_points,N,N,2,2))\n",
    "\n",
    "  #Multiply by transition matrix\n",
    "  out = np.multiply(broadcasted_pou, t2transition_values)\n",
    "\n",
    "  if bundle_type == \"mobius_plus_mobius\":\n",
    "    return out\n",
    "\n",
    "  if bundle_type == \"trivial_plus_trivial\":#Make all signs +1 if trivial bundle\n",
    "    out[block_mask] = np.absolute(out[block_mask])\n",
    "    return out"
   ]
  },
  {
   "cell_type": "markdown",
   "metadata": {
    "id": "vTVjStesLsDJ"
   },
   "source": [
    "More on transition functions: for $S^1$, only open sets that overlap are adjacent indices. $\\Omega_{ij}=1$ if $i$ is greater than or equal to $j$, otherwise -1.\n",
    "\n",
    "Represent $S^1$ transition functions with a matrix: we take the first (row) index to be $i$, so it will have +1 on the superdiagonal, -1 on the subdiagonal, and then since we do mod $N$ and 1 is adjacent to $N$, put an extra -1 on the (N,1) entry, and +1 on the (1,N) entry. 1's in other entries will be killed by $\\psi_i$ if the sets don't overlap, so in code it's lower triangular -1's.\n",
    "\n",
    "Outer product for the $N$ open sets on $S^1$ is $N\\times N$ matrix; this is set of partition of unity functions on $T^2$.\n",
    "\n",
    "For each point on $T^2$, should get an $N^2\\times 2\\times 2$ matrix as $k=2$. Already have $N^2$ partition of unity values. Need $N^2\\times N^2 \\times 2 \\times 2$ tensor: For any $U_i\\times U_j$ and $U_{i'}\\times U_{j'}$ get 2 by 1 vector (will be diagonal) with $\\pm 1$ on diagonal depending on $i,j,i',j'$. Build this with for loop.\n",
    "\n",
    "For any point, find the $U_i\\times U_j$ where it lives, use this as $i,j$. Then for all other $i', j'$ find $i,i'$ and $j,j'$ entries of $S^1$ transition matrix. Get $N^2\\times 2\\times 1$, fill in as diagonal of $N^2\\times 2 \\times 2$.\n",
    "\n",
    "Next, broadcast the partition of unity function to the same shape and multiply."
   ]
  },
  {
   "cell_type": "markdown",
   "metadata": {
    "id": "7ZJrs6lbTF6D"
   },
   "source": [
    "##Example"
   ]
  },
  {
   "cell_type": "markdown",
   "metadata": {
    "id": "cUoHNry1OLeI"
   },
   "source": [
    "For example, $(U_0\\times U_1)\\cap (U_1\\times U_2)$ should be $\\begin{bmatrix}-1 & 0\\\\0& -1\\end{bmatrix}$ since $0 \\leq 1$ and $1\\leq 2$, and both are adjacent so we would expect to get intersections. Translated to our indices this means $V_1\\cap V_5$ has matrix $-Id$.\n"
   ]
  },
  {
   "cell_type": "code",
   "execution_count": 7,
   "metadata": {
    "colab": {
     "base_uri": "https://localhost:8080/"
    },
    "id": "BUPFxL8XNYUv",
    "outputId": "02037306-f985-4602-e988-74573eba7e9c"
   },
   "outputs": [
    {
     "data": {
      "text/plain": [
       "array([[0.        , 0.66666667],\n",
       "       [0.33333333, 0.        ],\n",
       "       [0.66666667, 0.33333333]])"
      ]
     },
     "execution_count": 7,
     "metadata": {},
     "output_type": "execute_result"
    }
   ],
   "source": [
    "card_s1_cover = 3 # number of sets to cover S^1\n",
    "k = 2\n",
    "interval_size = 2/card_s1_cover\n",
    "\n",
    "step_size = 1/card_s1_cover\n",
    "# Define the start and end points\n",
    "start = 0.0\n",
    "end = 1 - step_size\n",
    "\n",
    "# Create the list of intervals\n",
    "s1_open_cover = np.array([[i, (i + interval_size)%1] for i in np.arange(start, end + step_size, step_size)])\n",
    "s1_open_cover"
   ]
  },
  {
   "cell_type": "code",
   "execution_count": 8,
   "metadata": {
    "colab": {
     "base_uri": "https://localhost:8080/"
    },
    "id": "GzroAlxOR_vd",
    "outputId": "f8ea755f-c9ca-49f0-bc82-3ee257dd713e"
   },
   "outputs": [
    {
     "data": {
      "text/plain": [
       "array([[[0.        , 0.66666667],\n",
       "        [0.        , 0.66666667]],\n",
       "\n",
       "       [[0.        , 0.66666667],\n",
       "        [0.33333333, 0.        ]],\n",
       "\n",
       "       [[0.        , 0.66666667],\n",
       "        [0.66666667, 0.33333333]],\n",
       "\n",
       "       [[0.33333333, 0.        ],\n",
       "        [0.        , 0.66666667]],\n",
       "\n",
       "       [[0.33333333, 0.        ],\n",
       "        [0.33333333, 0.        ]],\n",
       "\n",
       "       [[0.33333333, 0.        ],\n",
       "        [0.66666667, 0.33333333]],\n",
       "\n",
       "       [[0.66666667, 0.33333333],\n",
       "        [0.        , 0.66666667]],\n",
       "\n",
       "       [[0.66666667, 0.33333333],\n",
       "        [0.33333333, 0.        ]],\n",
       "\n",
       "       [[0.66666667, 0.33333333],\n",
       "        [0.66666667, 0.33333333]]])"
      ]
     },
     "execution_count": 8,
     "metadata": {},
     "output_type": "execute_result"
    }
   ],
   "source": [
    "#List open sets U_i\\times U_j in cover\n",
    "list_of_open_sets = np.array([[open_set1, open_set2] for open_set1 in s1_open_cover for open_set2 in s1_open_cover])\n",
    "list_of_open_sets"
   ]
  },
  {
   "cell_type": "code",
   "execution_count": 9,
   "metadata": {
    "colab": {
     "base_uri": "https://localhost:8080/"
    },
    "id": "v7JINMfcSYtv",
    "outputId": "1c634002-fe62-4c28-8d7f-162b0186fa8f"
   },
   "outputs": [
    {
     "data": {
      "text/plain": [
       "array([[0, 0],\n",
       "       [0, 1],\n",
       "       [0, 2],\n",
       "       [1, 0],\n",
       "       [1, 1],\n",
       "       [1, 2],\n",
       "       [2, 0],\n",
       "       [2, 1],\n",
       "       [2, 2]])"
      ]
     },
     "execution_count": 9,
     "metadata": {},
     "output_type": "execute_result"
    }
   ],
   "source": [
    "# For cover constructed with above method, index these with tuples (i,j)\n",
    "factor1_indices = range(0,card_s1_cover)\n",
    "factor2_indices = range(0,card_s1_cover)\n",
    "nbhd_indices = np.dstack(np.meshgrid(factor2_indices,factor1_indices, indexing='ij')).reshape(-1,2)\n",
    "nbhd_indices"
   ]
  },
  {
   "cell_type": "code",
   "execution_count": 10,
   "metadata": {
    "colab": {
     "base_uri": "https://localhost:8080/"
    },
    "id": "WUw2rnN-QSXP",
    "outputId": "4051989c-0557-455d-9fce-b7ad9ef80c1b"
   },
   "outputs": [
    {
     "data": {
      "text/plain": [
       "array([[[[[ 0.03810992,  0.        ],\n",
       "          [ 0.        ,  0.03810992]],\n",
       "\n",
       "         [[ 0.        ,  0.        ],\n",
       "          [ 0.        ,  0.        ]],\n",
       "\n",
       "         [[ 0.02768848,  0.        ],\n",
       "          [ 0.        , -0.02768848]]],\n",
       "\n",
       "\n",
       "        [[[ 0.        ,  0.        ],\n",
       "          [ 0.        ,  0.        ]],\n",
       "\n",
       "         [[ 0.        ,  0.        ],\n",
       "          [ 0.        ,  0.        ]],\n",
       "\n",
       "         [[ 0.        ,  0.        ],\n",
       "          [ 0.        , -0.        ]]],\n",
       "\n",
       "\n",
       "        [[[-0.80811888,  0.        ],\n",
       "          [ 0.        ,  0.80811888]],\n",
       "\n",
       "         [[-0.        ,  0.        ],\n",
       "          [ 0.        ,  0.        ]],\n",
       "\n",
       "         [[-0.58713274,  0.        ],\n",
       "          [ 0.        , -0.58713274]]]]])"
      ]
     },
     "execution_count": 10,
     "metadata": {},
     "output_type": "execute_result"
    }
   ],
   "source": [
    "#Ordered list of U\\times U is [0]\n",
    "#Reference open set for point (0.01, 0.2) is in U_{0,0} (also in U_{0,2}, U_{2,0}, U_{2,2})\n",
    "t2_stiefel_embedding(np.array([[0.01],[0.2]]).T, s1_open_cover, bundle_type=\"mobius_plus_mobius\")"
   ]
  },
  {
   "cell_type": "markdown",
   "metadata": {
    "id": "yk-MZVDihdaM"
   },
   "source": [
    "#Automate MSE experiments\n"
   ]
  },
  {
   "cell_type": "code",
   "execution_count": 11,
   "metadata": {
    "id": "q2RwLySPyHdY"
   },
   "outputs": [],
   "source": [
    "def t2_mse_experiment(num_points, num_s1_open_sets, num_trials,sample_type, bundle_type=\"mobius_plus_mobius\", target_dimension=None, p=None, q=None):\n",
    "  N = num_s1_open_sets # number of sets to cover S^1\n",
    "  k = 2\n",
    "  size_of_open_sets = 2/num_s1_open_sets\n",
    "\n",
    "  step_size = 1/num_s1_open_sets\n",
    "  # Define the start and end points\n",
    "  start = 0.0\n",
    "  end = 1 - step_size\n",
    "\n",
    "  # Create the list of intervals\n",
    "  full_s1_list_of_open_sets = np.array([[i, (i + size_of_open_sets)%1] for i in np.arange(start, end + step_size, step_size)])\n",
    "\n",
    "  #Create dataframe to store output\n",
    "  results = pd.DataFrame(columns=[\"St_dist\",\"Gr_dist\",\"GDcost\",\"PCAcost\"])\n",
    "  rng = np.random.default_rng(seed=123)\n",
    "\n",
    "  #Loop through trials\n",
    "  for i in tqdm(range(num_trials)):\n",
    "    if sample_type==\"uniform\":\n",
    "      n=target_dimension\n",
    "      t2_sampled_points = rng.random(size=(num_points, 2))\n",
    "\n",
    "    if sample_type==\"pq_curve\":\n",
    "      n = 2\n",
    "      # Generate random points in the range (0, q) to get entire circle\n",
    "      sampled_interval_points = q * rng.random(size=num_points)\n",
    "      sampled_circle_points = sampled_interval_points % 1\n",
    "\n",
    "      twisted_sampled_circle_points = (p/q)*sampled_interval_points % 1\n",
    "\n",
    "      t2_sampled_points = np.array([sampled_circle_points, twisted_sampled_circle_points]).transpose((1,0))\n",
    "\n",
    "    embedded_points = t2_stiefel_embedding(t2_sampled_points, full_s1_list_of_open_sets, bundle_type=bundle_type).reshape(num_points, k*num_s1_open_sets**2, k)\n",
    "\n",
    "    PCA_alpha = PCA(embedded_points, n)\n",
    "    GD_alpha = manopt_alpha(embedded_points, PCA_alpha)\n",
    "\n",
    "    GD_PCA_yhats = yhat_alpha_all(GD_alpha, embedded_points)\n",
    "    PCA_yhats = yhat_alpha_all(PCA_alpha, embedded_points)\n",
    "\n",
    "    embedded_GD_PCA_yhats = GD_alpha@GD_PCA_yhats\n",
    "    embedded_PCA_yhats = PCA_alpha@PCA_yhats\n",
    "\n",
    "    GD_PCA_MSE = np.linalg.norm(embedded_GD_PCA_yhats-embedded_points, axis=(1,2))/num_points #add 'fro' to get Stiefel distance\n",
    "    PCA_MSE = np.linalg.norm(embedded_PCA_yhats-embedded_points, axis=(1,2))/num_points\n",
    "\n",
    "    results.loc[-1] = [dist_Gr(PCA_alpha,GD_alpha),\\\n",
    "                       dist_St(PCA_alpha,GD_alpha),\\\n",
    "                       sum(GD_PCA_MSE),\\\n",
    "                       sum(PCA_MSE)]  # adding a row\n",
    "    results.index = results.index + 1  # shifting index\n",
    "    results = results.sort_index()\n",
    "  return results"
   ]
  },
  {
   "cell_type": "markdown",
   "metadata": {
    "id": "L5NZJ1BvkYu6"
   },
   "source": [
    "\n",
    "# GD vs PCA results"
   ]
  },
  {
   "cell_type": "code",
   "execution_count": 12,
   "metadata": {
    "colab": {
     "background_save": true,
     "base_uri": "https://localhost:8080/"
    },
    "id": "DPDuAkRYirgA",
    "outputId": "7a88587e-a759-4fbc-a57c-52c5375d468d"
   },
   "outputs": [
    {
     "name": "stderr",
     "output_type": "stream",
     "text": [
      "  0%|                                                    | 0/20 [00:00<?, ?it/s]"
     ]
    },
    {
     "name": "stdout",
     "output_type": "stream",
     "text": [
      "Optimizing...\n"
     ]
    },
    {
     "name": "stderr",
     "output_type": "stream",
     "text": [
      "  5%|██▏                                         | 1/20 [00:19<06:10, 19.51s/it]"
     ]
    },
    {
     "name": "stdout",
     "output_type": "stream",
     "text": [
      "Terminated - min grad norm reached after 186 iterations, 19.03 seconds.\n",
      "\n",
      "Optimizing...\n"
     ]
    },
    {
     "name": "stderr",
     "output_type": "stream",
     "text": [
      " 10%|████▍                                       | 2/20 [00:30<04:18, 14.37s/it]"
     ]
    },
    {
     "name": "stdout",
     "output_type": "stream",
     "text": [
      "Terminated - min grad norm reached after 107 iterations, 10.62 seconds.\n",
      "\n",
      "Optimizing...\n"
     ]
    },
    {
     "name": "stderr",
     "output_type": "stream",
     "text": [
      " 15%|██████▌                                     | 3/20 [00:45<04:11, 14.79s/it]"
     ]
    },
    {
     "name": "stdout",
     "output_type": "stream",
     "text": [
      "Terminated - min grad norm reached after 154 iterations, 15.16 seconds.\n",
      "\n",
      "Optimizing...\n"
     ]
    },
    {
     "name": "stderr",
     "output_type": "stream",
     "text": [
      " 20%|████████▊                                   | 4/20 [00:55<03:24, 12.81s/it]"
     ]
    },
    {
     "name": "stdout",
     "output_type": "stream",
     "text": [
      "Terminated - min grad norm reached after 96 iterations, 9.57 seconds.\n",
      "\n",
      "Optimizing...\n"
     ]
    },
    {
     "name": "stderr",
     "output_type": "stream",
     "text": [
      " 25%|███████████                                 | 5/20 [01:05<02:59, 11.97s/it]"
     ]
    },
    {
     "name": "stdout",
     "output_type": "stream",
     "text": [
      "Terminated - min grad norm reached after 105 iterations, 10.31 seconds.\n",
      "\n",
      "Optimizing...\n"
     ]
    },
    {
     "name": "stderr",
     "output_type": "stream",
     "text": [
      " 30%|█████████████▏                              | 6/20 [01:16<02:39, 11.38s/it]"
     ]
    },
    {
     "name": "stdout",
     "output_type": "stream",
     "text": [
      "Terminated - min grad norm reached after 102 iterations, 10.10 seconds.\n",
      "\n",
      "Optimizing...\n"
     ]
    },
    {
     "name": "stderr",
     "output_type": "stream",
     "text": [
      " 35%|███████████████▍                            | 7/20 [01:41<03:25, 15.85s/it]"
     ]
    },
    {
     "name": "stdout",
     "output_type": "stream",
     "text": [
      "Terminated - min grad norm reached after 251 iterations, 24.90 seconds.\n",
      "\n",
      "Optimizing...\n"
     ]
    },
    {
     "name": "stderr",
     "output_type": "stream",
     "text": [
      " 40%|█████████████████▌                          | 8/20 [01:52<02:54, 14.52s/it]"
     ]
    },
    {
     "name": "stdout",
     "output_type": "stream",
     "text": [
      "Terminated - min grad norm reached after 115 iterations, 11.54 seconds.\n",
      "\n",
      "Optimizing...\n"
     ]
    },
    {
     "name": "stderr",
     "output_type": "stream",
     "text": [
      " 45%|███████████████████▊                        | 9/20 [02:04<02:28, 13.50s/it]"
     ]
    },
    {
     "name": "stdout",
     "output_type": "stream",
     "text": [
      "Terminated - min grad norm reached after 112 iterations, 11.13 seconds.\n",
      "\n",
      "Optimizing...\n"
     ]
    },
    {
     "name": "stderr",
     "output_type": "stream",
     "text": [
      " 50%|█████████████████████▌                     | 10/20 [02:22<02:29, 14.90s/it]"
     ]
    },
    {
     "name": "stdout",
     "output_type": "stream",
     "text": [
      "Terminated - min grad norm reached after 181 iterations, 17.91 seconds.\n",
      "\n",
      "Optimizing...\n"
     ]
    },
    {
     "name": "stderr",
     "output_type": "stream",
     "text": [
      " 55%|███████████████████████▋                   | 11/20 [02:33<02:04, 13.82s/it]"
     ]
    },
    {
     "name": "stdout",
     "output_type": "stream",
     "text": [
      "Terminated - min grad norm reached after 108 iterations, 11.22 seconds.\n",
      "\n",
      "Optimizing...\n"
     ]
    },
    {
     "name": "stderr",
     "output_type": "stream",
     "text": [
      " 60%|█████████████████████████▊                 | 12/20 [02:58<02:18, 17.32s/it]"
     ]
    },
    {
     "name": "stdout",
     "output_type": "stream",
     "text": [
      "Terminated - min grad norm reached after 257 iterations, 25.10 seconds.\n",
      "\n",
      "Optimizing...\n"
     ]
    },
    {
     "name": "stderr",
     "output_type": "stream",
     "text": [
      " 65%|███████████████████████████▉               | 13/20 [03:20<02:10, 18.69s/it]"
     ]
    },
    {
     "name": "stdout",
     "output_type": "stream",
     "text": [
      "Terminated - min grad norm reached after 221 iterations, 21.66 seconds.\n",
      "\n",
      "Optimizing...\n"
     ]
    },
    {
     "name": "stderr",
     "output_type": "stream",
     "text": [
      " 70%|██████████████████████████████             | 14/20 [03:31<01:38, 16.43s/it]"
     ]
    },
    {
     "name": "stdout",
     "output_type": "stream",
     "text": [
      "Terminated - min grad norm reached after 111 iterations, 11.01 seconds.\n",
      "\n",
      "Optimizing...\n"
     ]
    },
    {
     "name": "stderr",
     "output_type": "stream",
     "text": [
      " 75%|████████████████████████████████▎          | 15/20 [03:45<01:18, 15.64s/it]"
     ]
    },
    {
     "name": "stdout",
     "output_type": "stream",
     "text": [
      "Terminated - min grad norm reached after 132 iterations, 13.63 seconds.\n",
      "\n",
      "Optimizing...\n"
     ]
    },
    {
     "name": "stderr",
     "output_type": "stream",
     "text": [
      " 80%|██████████████████████████████████▍        | 16/20 [03:56<00:57, 14.28s/it]"
     ]
    },
    {
     "name": "stdout",
     "output_type": "stream",
     "text": [
      "Terminated - min grad norm reached after 103 iterations, 10.97 seconds.\n",
      "\n",
      "Optimizing...\n"
     ]
    },
    {
     "name": "stderr",
     "output_type": "stream",
     "text": [
      " 85%|████████████████████████████████████▌      | 17/20 [04:05<00:38, 12.71s/it]"
     ]
    },
    {
     "name": "stdout",
     "output_type": "stream",
     "text": [
      "Terminated - min grad norm reached after 83 iterations, 8.93 seconds.\n",
      "\n",
      "Optimizing...\n"
     ]
    },
    {
     "name": "stderr",
     "output_type": "stream",
     "text": [
      " 90%|██████████████████████████████████████▋    | 18/20 [04:18<00:25, 12.67s/it]"
     ]
    },
    {
     "name": "stdout",
     "output_type": "stream",
     "text": [
      "Terminated - min grad norm reached after 120 iterations, 12.41 seconds.\n",
      "\n",
      "Optimizing...\n"
     ]
    },
    {
     "name": "stderr",
     "output_type": "stream",
     "text": [
      " 95%|████████████████████████████████████████▊  | 19/20 [04:25<00:11, 11.12s/it]"
     ]
    },
    {
     "name": "stdout",
     "output_type": "stream",
     "text": [
      "Terminated - min grad norm reached after 72 iterations, 7.37 seconds.\n",
      "\n",
      "Optimizing...\n"
     ]
    },
    {
     "name": "stderr",
     "output_type": "stream",
     "text": [
      "100%|███████████████████████████████████████████| 20/20 [04:38<00:00, 13.93s/it]"
     ]
    },
    {
     "name": "stdout",
     "output_type": "stream",
     "text": [
      "Terminated - min grad norm reached after 122 iterations, 12.55 seconds.\n",
      "\n"
     ]
    },
    {
     "name": "stderr",
     "output_type": "stream",
     "text": [
      "\n"
     ]
    }
   ],
   "source": [
    "num_points = 1000\n",
    "num_s1_open_sets = 10\n",
    "num_trials=20\n",
    "target_dimension = 3\n",
    "sample_type = 'uniform'\n",
    "bundle_type = \"mobius_plus_mobius\"\n",
    "mmuniform_O3_results_df = t2_mse_experiment(num_points,num_s1_open_sets,num_trials, sample_type, bundle_type, target_dimension=target_dimension)"
   ]
  },
  {
   "cell_type": "code",
   "execution_count": 13,
   "metadata": {
    "colab": {
     "base_uri": "https://localhost:8080/",
     "height": 1000
    },
    "id": "TPZ0HWXJjYiY",
    "outputId": "9f03e48f-d6dd-47d6-844a-acfe9f7e31ab"
   },
   "outputs": [
    {
     "name": "stderr",
     "output_type": "stream",
     "text": [
      "  0%|                                                    | 0/20 [00:00<?, ?it/s]"
     ]
    },
    {
     "name": "stdout",
     "output_type": "stream",
     "text": [
      "Optimizing...\n"
     ]
    },
    {
     "name": "stderr",
     "output_type": "stream",
     "text": [
      "  5%|██▏                                         | 1/20 [00:07<02:30,  7.89s/it]"
     ]
    },
    {
     "name": "stdout",
     "output_type": "stream",
     "text": [
      "Terminated - min grad norm reached after 76 iterations, 7.79 seconds.\n",
      "\n",
      "Optimizing...\n"
     ]
    },
    {
     "name": "stderr",
     "output_type": "stream",
     "text": [
      " 10%|████▍                                       | 2/20 [00:09<01:16,  4.25s/it]"
     ]
    },
    {
     "name": "stdout",
     "output_type": "stream",
     "text": [
      "Terminated - min grad norm reached after 14 iterations, 1.60 seconds.\n",
      "\n",
      "Optimizing...\n"
     ]
    },
    {
     "name": "stderr",
     "output_type": "stream",
     "text": [
      " 15%|██████▌                                     | 3/20 [00:11<00:52,  3.11s/it]"
     ]
    },
    {
     "name": "stdout",
     "output_type": "stream",
     "text": [
      "Terminated - min grad norm reached after 13 iterations, 1.65 seconds.\n",
      "\n",
      "Optimizing...\n"
     ]
    },
    {
     "name": "stderr",
     "output_type": "stream",
     "text": [
      " 20%|████████▊                                   | 4/20 [00:12<00:39,  2.44s/it]"
     ]
    },
    {
     "name": "stdout",
     "output_type": "stream",
     "text": [
      "Terminated - min grad norm reached after 11 iterations, 1.31 seconds.\n",
      "\n",
      "Optimizing...\n"
     ]
    },
    {
     "name": "stderr",
     "output_type": "stream",
     "text": [
      " 25%|███████████                                 | 5/20 [00:23<01:20,  5.35s/it]"
     ]
    },
    {
     "name": "stdout",
     "output_type": "stream",
     "text": [
      "Terminated - min grad norm reached after 102 iterations, 10.41 seconds.\n",
      "\n",
      "Optimizing...\n"
     ]
    },
    {
     "name": "stderr",
     "output_type": "stream",
     "text": [
      " 30%|█████████████▏                              | 6/20 [00:32<01:33,  6.68s/it]"
     ]
    },
    {
     "name": "stdout",
     "output_type": "stream",
     "text": [
      "Terminated - min grad norm reached after 92 iterations, 9.15 seconds.\n",
      "\n",
      "Optimizing...\n"
     ]
    },
    {
     "name": "stderr",
     "output_type": "stream",
     "text": [
      " 35%|███████████████▍                            | 7/20 [00:34<01:05,  5.04s/it]"
     ]
    },
    {
     "name": "stdout",
     "output_type": "stream",
     "text": [
      "Terminated - min grad norm reached after 13 iterations, 1.57 seconds.\n",
      "\n",
      "Optimizing...\n"
     ]
    },
    {
     "name": "stderr",
     "output_type": "stream",
     "text": [
      " 40%|█████████████████▌                          | 8/20 [00:35<00:47,  3.96s/it]"
     ]
    },
    {
     "name": "stdout",
     "output_type": "stream",
     "text": [
      "Terminated - min grad norm reached after 12 iterations, 1.53 seconds.\n",
      "\n",
      "Optimizing...\n"
     ]
    },
    {
     "name": "stderr",
     "output_type": "stream",
     "text": [
      " 45%|███████████████████▊                        | 9/20 [00:37<00:34,  3.13s/it]"
     ]
    },
    {
     "name": "stdout",
     "output_type": "stream",
     "text": [
      "Terminated - min grad norm reached after 9 iterations, 1.20 seconds.\n",
      "\n",
      "Optimizing...\n"
     ]
    },
    {
     "name": "stderr",
     "output_type": "stream",
     "text": [
      " 50%|█████████████████████▌                     | 10/20 [00:47<00:53,  5.31s/it]"
     ]
    },
    {
     "name": "stdout",
     "output_type": "stream",
     "text": [
      "Terminated - min grad norm reached after 101 iterations, 10.09 seconds.\n",
      "\n",
      "Optimizing...\n"
     ]
    },
    {
     "name": "stderr",
     "output_type": "stream",
     "text": [
      " 55%|███████████████████████▋                   | 11/20 [00:58<01:03,  7.03s/it]"
     ]
    },
    {
     "name": "stdout",
     "output_type": "stream",
     "text": [
      "Terminated - min grad norm reached after 109 iterations, 10.85 seconds.\n",
      "\n",
      "Optimizing...\n"
     ]
    },
    {
     "name": "stderr",
     "output_type": "stream",
     "text": [
      " 60%|█████████████████████████▊                 | 12/20 [00:59<00:42,  5.26s/it]"
     ]
    },
    {
     "name": "stdout",
     "output_type": "stream",
     "text": [
      "Terminated - min grad norm reached after 8 iterations, 1.12 seconds.\n",
      "\n",
      "Optimizing...\n"
     ]
    },
    {
     "name": "stderr",
     "output_type": "stream",
     "text": [
      " 65%|███████████████████████████▉               | 13/20 [01:10<00:49,  7.04s/it]"
     ]
    },
    {
     "name": "stdout",
     "output_type": "stream",
     "text": [
      "Terminated - min grad norm reached after 112 iterations, 11.01 seconds.\n",
      "\n",
      "Optimizing...\n"
     ]
    },
    {
     "name": "stderr",
     "output_type": "stream",
     "text": [
      " 70%|██████████████████████████████             | 14/20 [01:12<00:32,  5.49s/it]"
     ]
    },
    {
     "name": "stdout",
     "output_type": "stream",
     "text": [
      "Terminated - min grad norm reached after 16 iterations, 1.80 seconds.\n",
      "\n",
      "Optimizing...\n"
     ]
    },
    {
     "name": "stderr",
     "output_type": "stream",
     "text": [
      " 75%|████████████████████████████████▎          | 15/20 [01:13<00:21,  4.26s/it]"
     ]
    },
    {
     "name": "stdout",
     "output_type": "stream",
     "text": [
      "Terminated - min grad norm reached after 10 iterations, 1.30 seconds.\n",
      "\n",
      "Optimizing...\n"
     ]
    },
    {
     "name": "stderr",
     "output_type": "stream",
     "text": [
      " 80%|██████████████████████████████████▍        | 16/20 [01:15<00:13,  3.46s/it]"
     ]
    },
    {
     "name": "stdout",
     "output_type": "stream",
     "text": [
      "Terminated - min grad norm reached after 13 iterations, 1.51 seconds.\n",
      "\n",
      "Optimizing...\n"
     ]
    },
    {
     "name": "stderr",
     "output_type": "stream",
     "text": [
      " 85%|████████████████████████████████████▌      | 17/20 [01:16<00:08,  2.86s/it]"
     ]
    },
    {
     "name": "stdout",
     "output_type": "stream",
     "text": [
      "Terminated - min grad norm reached after 11 iterations, 1.37 seconds.\n",
      "\n",
      "Optimizing...\n"
     ]
    },
    {
     "name": "stderr",
     "output_type": "stream",
     "text": [
      " 90%|██████████████████████████████████████▋    | 18/20 [01:18<00:04,  2.47s/it]"
     ]
    },
    {
     "name": "stdout",
     "output_type": "stream",
     "text": [
      "Terminated - min grad norm reached after 11 iterations, 1.43 seconds.\n",
      "\n",
      "Optimizing...\n"
     ]
    },
    {
     "name": "stderr",
     "output_type": "stream",
     "text": [
      " 95%|████████████████████████████████████████▊  | 19/20 [01:20<00:02,  2.18s/it]"
     ]
    },
    {
     "name": "stdout",
     "output_type": "stream",
     "text": [
      "Terminated - min grad norm reached after 11 iterations, 1.41 seconds.\n",
      "\n",
      "Optimizing...\n"
     ]
    },
    {
     "name": "stderr",
     "output_type": "stream",
     "text": [
      "100%|███████████████████████████████████████████| 20/20 [01:29<00:00,  4.47s/it]"
     ]
    },
    {
     "name": "stdout",
     "output_type": "stream",
     "text": [
      "Terminated - min grad norm reached after 91 iterations, 9.25 seconds.\n",
      "\n"
     ]
    },
    {
     "name": "stderr",
     "output_type": "stream",
     "text": [
      "\n"
     ]
    }
   ],
   "source": [
    "num_points = 1000\n",
    "num_s1_open_sets = 10\n",
    "num_trials= 20\n",
    "\n",
    "sample_type = 'pq_curve'\n",
    "p=1\n",
    "q=1\n",
    "\n",
    "bundle_type = \"mobius_plus_mobius\"\n",
    "mmpq_diag_results_df = t2_mse_experiment(num_points,num_s1_open_sets,num_trials,\\\n",
    "                               sample_type=sample_type,bundle_type=bundle_type, p=p, q=q)"
   ]
  },
  {
   "cell_type": "code",
   "execution_count": 14,
   "metadata": {
    "colab": {
     "background_save": true
    },
    "id": "SFO-TPJviHf5",
    "outputId": "eee618d2-e402-4ea5-b654-3d585d56bb31"
   },
   "outputs": [
    {
     "name": "stderr",
     "output_type": "stream",
     "text": [
      "  0%|                                                    | 0/20 [00:00<?, ?it/s]"
     ]
    },
    {
     "name": "stdout",
     "output_type": "stream",
     "text": [
      "Optimizing...\n"
     ]
    },
    {
     "name": "stderr",
     "output_type": "stream",
     "text": [
      "  5%|██▏                                         | 1/20 [00:02<00:48,  2.57s/it]"
     ]
    },
    {
     "name": "stdout",
     "output_type": "stream",
     "text": [
      "Terminated - min grad norm reached after 22 iterations, 2.44 seconds.\n",
      "\n",
      "Optimizing...\n"
     ]
    },
    {
     "name": "stderr",
     "output_type": "stream",
     "text": [
      " 10%|████▍                                       | 2/20 [00:03<00:33,  1.86s/it]"
     ]
    },
    {
     "name": "stdout",
     "output_type": "stream",
     "text": [
      "Terminated - min grad norm reached after 9 iterations, 1.23 seconds.\n",
      "\n",
      "Optimizing...\n"
     ]
    },
    {
     "name": "stderr",
     "output_type": "stream",
     "text": [
      " 15%|██████▌                                     | 3/20 [00:05<00:31,  1.87s/it]"
     ]
    },
    {
     "name": "stdout",
     "output_type": "stream",
     "text": [
      "Terminated - min grad norm reached after 15 iterations, 1.75 seconds.\n",
      "\n",
      "Optimizing...\n"
     ]
    },
    {
     "name": "stderr",
     "output_type": "stream",
     "text": [
      " 20%|████████▊                                   | 4/20 [00:07<00:28,  1.78s/it]"
     ]
    },
    {
     "name": "stdout",
     "output_type": "stream",
     "text": [
      "Terminated - min grad norm reached after 12 iterations, 1.49 seconds.\n",
      "\n",
      "Optimizing...\n"
     ]
    },
    {
     "name": "stderr",
     "output_type": "stream",
     "text": [
      " 25%|███████████                                 | 5/20 [00:09<00:29,  1.99s/it]"
     ]
    },
    {
     "name": "stdout",
     "output_type": "stream",
     "text": [
      "Terminated - min grad norm reached after 20 iterations, 2.25 seconds.\n",
      "\n",
      "Optimizing...\n"
     ]
    },
    {
     "name": "stderr",
     "output_type": "stream",
     "text": [
      " 30%|█████████████▏                              | 6/20 [00:11<00:27,  1.96s/it]"
     ]
    },
    {
     "name": "stdout",
     "output_type": "stream",
     "text": [
      "Terminated - min grad norm reached after 15 iterations, 1.77 seconds.\n",
      "\n",
      "Optimizing...\n"
     ]
    },
    {
     "name": "stderr",
     "output_type": "stream",
     "text": [
      " 35%|███████████████▍                            | 7/20 [00:13<00:25,  1.99s/it]"
     ]
    },
    {
     "name": "stdout",
     "output_type": "stream",
     "text": [
      "Terminated - min grad norm reached after 17 iterations, 1.92 seconds.\n",
      "\n",
      "Optimizing...\n"
     ]
    },
    {
     "name": "stderr",
     "output_type": "stream",
     "text": [
      " 40%|█████████████████▌                          | 8/20 [00:15<00:23,  1.96s/it]"
     ]
    },
    {
     "name": "stdout",
     "output_type": "stream",
     "text": [
      "Terminated - min grad norm reached after 14 iterations, 1.74 seconds.\n",
      "\n",
      "Optimizing...\n"
     ]
    },
    {
     "name": "stderr",
     "output_type": "stream",
     "text": [
      " 45%|███████████████████▊                        | 9/20 [00:17<00:22,  2.00s/it]"
     ]
    },
    {
     "name": "stdout",
     "output_type": "stream",
     "text": [
      "Terminated - min grad norm reached after 17 iterations, 1.96 seconds.\n",
      "\n",
      "Optimizing...\n"
     ]
    },
    {
     "name": "stderr",
     "output_type": "stream",
     "text": [
      " 50%|█████████████████████▌                     | 10/20 [00:19<00:20,  2.04s/it]"
     ]
    },
    {
     "name": "stdout",
     "output_type": "stream",
     "text": [
      "Terminated - min grad norm reached after 17 iterations, 1.99 seconds.\n",
      "\n",
      "Optimizing...\n"
     ]
    },
    {
     "name": "stderr",
     "output_type": "stream",
     "text": [
      " 55%|███████████████████████▋                   | 11/20 [00:21<00:18,  2.05s/it]"
     ]
    },
    {
     "name": "stdout",
     "output_type": "stream",
     "text": [
      "Terminated - min grad norm reached after 16 iterations, 1.92 seconds.\n",
      "\n",
      "Optimizing...\n"
     ]
    },
    {
     "name": "stderr",
     "output_type": "stream",
     "text": [
      " 60%|█████████████████████████▊                 | 12/20 [00:24<00:17,  2.16s/it]"
     ]
    },
    {
     "name": "stdout",
     "output_type": "stream",
     "text": [
      "Terminated - min grad norm reached after 19 iterations, 2.29 seconds.\n",
      "\n",
      "Optimizing...\n"
     ]
    },
    {
     "name": "stderr",
     "output_type": "stream",
     "text": [
      " 65%|███████████████████████████▉               | 13/20 [00:26<00:14,  2.12s/it]"
     ]
    },
    {
     "name": "stdout",
     "output_type": "stream",
     "text": [
      "Terminated - min grad norm reached after 15 iterations, 1.88 seconds.\n",
      "\n",
      "Optimizing...\n"
     ]
    },
    {
     "name": "stderr",
     "output_type": "stream",
     "text": [
      " 70%|██████████████████████████████             | 14/20 [00:28<00:11,  1.97s/it]"
     ]
    },
    {
     "name": "stdout",
     "output_type": "stream",
     "text": [
      "Terminated - min grad norm reached after 12 iterations, 1.49 seconds.\n",
      "\n",
      "Optimizing...\n"
     ]
    },
    {
     "name": "stderr",
     "output_type": "stream",
     "text": [
      " 75%|████████████████████████████████▎          | 15/20 [00:29<00:09,  1.80s/it]"
     ]
    },
    {
     "name": "stdout",
     "output_type": "stream",
     "text": [
      "Terminated - min grad norm reached after 9 iterations, 1.27 seconds.\n",
      "\n",
      "Optimizing...\n"
     ]
    },
    {
     "name": "stderr",
     "output_type": "stream",
     "text": [
      " 80%|██████████████████████████████████▍        | 16/20 [00:31<00:07,  1.94s/it]"
     ]
    },
    {
     "name": "stdout",
     "output_type": "stream",
     "text": [
      "Terminated - min grad norm reached after 18 iterations, 2.09 seconds.\n",
      "\n",
      "Optimizing...\n"
     ]
    },
    {
     "name": "stderr",
     "output_type": "stream",
     "text": [
      " 85%|████████████████████████████████████▌      | 17/20 [00:33<00:05,  1.83s/it]"
     ]
    },
    {
     "name": "stdout",
     "output_type": "stream",
     "text": [
      "Terminated - min grad norm reached after 12 iterations, 1.44 seconds.\n",
      "\n",
      "Optimizing...\n"
     ]
    },
    {
     "name": "stderr",
     "output_type": "stream",
     "text": [
      " 90%|██████████████████████████████████████▋    | 18/20 [00:35<00:03,  1.83s/it]"
     ]
    },
    {
     "name": "stdout",
     "output_type": "stream",
     "text": [
      "Terminated - min grad norm reached after 15 iterations, 1.69 seconds.\n",
      "\n",
      "Optimizing...\n"
     ]
    },
    {
     "name": "stderr",
     "output_type": "stream",
     "text": [
      " 95%|████████████████████████████████████████▊  | 19/20 [00:37<00:02,  2.06s/it]"
     ]
    },
    {
     "name": "stdout",
     "output_type": "stream",
     "text": [
      "Terminated - min grad norm reached after 22 iterations, 2.45 seconds.\n",
      "\n",
      "Optimizing...\n"
     ]
    },
    {
     "name": "stderr",
     "output_type": "stream",
     "text": [
      "100%|███████████████████████████████████████████| 20/20 [00:39<00:00,  1.97s/it]"
     ]
    },
    {
     "name": "stdout",
     "output_type": "stream",
     "text": [
      "Terminated - min grad norm reached after 14 iterations, 1.64 seconds.\n",
      "\n"
     ]
    },
    {
     "name": "stderr",
     "output_type": "stream",
     "text": [
      "\n"
     ]
    }
   ],
   "source": [
    "num_points = 1000\n",
    "num_s1_open_sets = 10\n",
    "num_trials= 20\n",
    "bundle_type = \"mobius_plus_mobius\"\n",
    "sample_type = 'pq_curve'\n",
    "p=15\n",
    "q=1\n",
    "mmpq1_15_results_df = t2_mse_experiment(num_points,num_s1_open_sets,num_trials,\\\n",
    "                               sample_type=sample_type, bundle_type=bundle_type, p=p, q=q)"
   ]
  },
  {
   "cell_type": "code",
   "execution_count": 15,
   "metadata": {
    "colab": {
     "background_save": true
    },
    "id": "mUUq8pK6iJyE",
    "outputId": "4b0255cd-8d9e-493c-a4c9-86a8b61d185a"
   },
   "outputs": [
    {
     "name": "stderr",
     "output_type": "stream",
     "text": [
      "  0%|                                                    | 0/20 [00:00<?, ?it/s]"
     ]
    },
    {
     "name": "stdout",
     "output_type": "stream",
     "text": [
      "Optimizing...\n"
     ]
    },
    {
     "name": "stderr",
     "output_type": "stream",
     "text": [
      "  5%|██▏                                         | 1/20 [00:07<02:29,  7.87s/it]"
     ]
    },
    {
     "name": "stdout",
     "output_type": "stream",
     "text": [
      "Terminated - min grad norm reached after 76 iterations, 7.75 seconds.\n",
      "\n",
      "Optimizing...\n"
     ]
    },
    {
     "name": "stderr",
     "output_type": "stream",
     "text": [
      " 10%|████▍                                       | 2/20 [00:15<02:21,  7.85s/it]"
     ]
    },
    {
     "name": "stdout",
     "output_type": "stream",
     "text": [
      "Terminated - min grad norm reached after 75 iterations, 7.74 seconds.\n",
      "\n",
      "Optimizing...\n"
     ]
    },
    {
     "name": "stderr",
     "output_type": "stream",
     "text": [
      " 15%|██████▌                                     | 3/20 [00:27<02:47,  9.84s/it]"
     ]
    },
    {
     "name": "stdout",
     "output_type": "stream",
     "text": [
      "Terminated - min grad norm reached after 120 iterations, 12.07 seconds.\n",
      "\n",
      "Optimizing...\n"
     ]
    },
    {
     "name": "stderr",
     "output_type": "stream",
     "text": [
      " 20%|████████▊                                   | 4/20 [00:29<01:45,  6.62s/it]"
     ]
    },
    {
     "name": "stdout",
     "output_type": "stream",
     "text": [
      "Terminated - min grad norm reached after 13 iterations, 1.58 seconds.\n",
      "\n",
      "Optimizing...\n"
     ]
    },
    {
     "name": "stderr",
     "output_type": "stream",
     "text": [
      " 25%|███████████                                 | 5/20 [00:38<01:51,  7.46s/it]"
     ]
    },
    {
     "name": "stdout",
     "output_type": "stream",
     "text": [
      "Terminated - min grad norm reached after 89 iterations, 8.86 seconds.\n",
      "\n",
      "Optimizing...\n"
     ]
    },
    {
     "name": "stderr",
     "output_type": "stream",
     "text": [
      " 30%|█████████████▏                              | 6/20 [00:40<01:17,  5.50s/it]"
     ]
    },
    {
     "name": "stdout",
     "output_type": "stream",
     "text": [
      "Terminated - min grad norm reached after 12 iterations, 1.58 seconds.\n",
      "\n",
      "Optimizing...\n"
     ]
    },
    {
     "name": "stderr",
     "output_type": "stream",
     "text": [
      " 35%|███████████████▍                            | 7/20 [00:52<01:40,  7.75s/it]"
     ]
    },
    {
     "name": "stdout",
     "output_type": "stream",
     "text": [
      "Terminated - min grad norm reached after 121 iterations, 12.27 seconds.\n",
      "\n",
      "Optimizing...\n"
     ]
    },
    {
     "name": "stderr",
     "output_type": "stream",
     "text": [
      " 40%|█████████████████▌                          | 8/20 [01:01<01:35,  7.98s/it]"
     ]
    },
    {
     "name": "stdout",
     "output_type": "stream",
     "text": [
      "Terminated - min grad norm reached after 82 iterations, 8.34 seconds.\n",
      "\n",
      "Optimizing...\n"
     ]
    },
    {
     "name": "stderr",
     "output_type": "stream",
     "text": [
      " 45%|███████████████████▊                        | 9/20 [01:10<01:32,  8.44s/it]"
     ]
    },
    {
     "name": "stdout",
     "output_type": "stream",
     "text": [
      "Terminated - min grad norm reached after 93 iterations, 9.35 seconds.\n",
      "\n",
      "Optimizing...\n"
     ]
    },
    {
     "name": "stderr",
     "output_type": "stream",
     "text": [
      " 50%|█████████████████████▌                     | 10/20 [01:11<01:02,  6.27s/it]"
     ]
    },
    {
     "name": "stdout",
     "output_type": "stream",
     "text": [
      "Terminated - min grad norm reached after 10 iterations, 1.31 seconds.\n",
      "\n",
      "Optimizing...\n"
     ]
    },
    {
     "name": "stderr",
     "output_type": "stream",
     "text": [
      " 55%|███████████████████████▋                   | 11/20 [01:13<00:44,  4.95s/it]"
     ]
    },
    {
     "name": "stdout",
     "output_type": "stream",
     "text": [
      "Terminated - min grad norm reached after 15 iterations, 1.85 seconds.\n",
      "\n",
      "Optimizing...\n"
     ]
    },
    {
     "name": "stderr",
     "output_type": "stream",
     "text": [
      " 60%|█████████████████████████▊                 | 12/20 [01:25<00:55,  6.90s/it]"
     ]
    },
    {
     "name": "stdout",
     "output_type": "stream",
     "text": [
      "Terminated - min grad norm reached after 110 iterations, 11.21 seconds.\n",
      "\n",
      "Optimizing...\n"
     ]
    },
    {
     "name": "stderr",
     "output_type": "stream",
     "text": [
      " 65%|███████████████████████████▉               | 13/20 [01:34<00:54,  7.73s/it]"
     ]
    },
    {
     "name": "stdout",
     "output_type": "stream",
     "text": [
      "Terminated - min grad norm reached after 96 iterations, 9.52 seconds.\n",
      "\n",
      "Optimizing...\n"
     ]
    },
    {
     "name": "stderr",
     "output_type": "stream",
     "text": [
      " 70%|██████████████████████████████             | 14/20 [01:36<00:35,  5.87s/it]"
     ]
    },
    {
     "name": "stdout",
     "output_type": "stream",
     "text": [
      "Terminated - min grad norm reached after 11 iterations, 1.45 seconds.\n",
      "\n",
      "Optimizing...\n"
     ]
    },
    {
     "name": "stderr",
     "output_type": "stream",
     "text": [
      " 75%|████████████████████████████████▎          | 15/20 [01:48<00:38,  7.61s/it]"
     ]
    },
    {
     "name": "stdout",
     "output_type": "stream",
     "text": [
      "Terminated - min grad norm reached after 111 iterations, 11.50 seconds.\n",
      "\n",
      "Optimizing...\n"
     ]
    },
    {
     "name": "stderr",
     "output_type": "stream",
     "text": [
      " 80%|██████████████████████████████████▍        | 16/20 [01:49<00:23,  5.82s/it]"
     ]
    },
    {
     "name": "stdout",
     "output_type": "stream",
     "text": [
      "Terminated - min grad norm reached after 13 iterations, 1.51 seconds.\n",
      "\n",
      "Optimizing...\n"
     ]
    },
    {
     "name": "stderr",
     "output_type": "stream",
     "text": [
      " 85%|████████████████████████████████████▌      | 17/20 [01:51<00:13,  4.53s/it]"
     ]
    },
    {
     "name": "stdout",
     "output_type": "stream",
     "text": [
      "Terminated - min grad norm reached after 10 iterations, 1.38 seconds.\n",
      "\n",
      "Optimizing...\n"
     ]
    },
    {
     "name": "stderr",
     "output_type": "stream",
     "text": [
      " 90%|██████████████████████████████████████▋    | 18/20 [01:52<00:07,  3.66s/it]"
     ]
    },
    {
     "name": "stdout",
     "output_type": "stream",
     "text": [
      "Terminated - min grad norm reached after 12 iterations, 1.51 seconds.\n",
      "\n",
      "Optimizing...\n"
     ]
    },
    {
     "name": "stderr",
     "output_type": "stream",
     "text": [
      " 95%|████████████████████████████████████████▊  | 19/20 [01:54<00:02,  2.99s/it]"
     ]
    },
    {
     "name": "stdout",
     "output_type": "stream",
     "text": [
      "Terminated - min grad norm reached after 10 iterations, 1.29 seconds.\n",
      "\n",
      "Optimizing...\n"
     ]
    },
    {
     "name": "stderr",
     "output_type": "stream",
     "text": [
      "100%|███████████████████████████████████████████| 20/20 [02:06<00:00,  6.32s/it]"
     ]
    },
    {
     "name": "stdout",
     "output_type": "stream",
     "text": [
      "Terminated - min grad norm reached after 120 iterations, 11.87 seconds.\n",
      "\n"
     ]
    },
    {
     "name": "stderr",
     "output_type": "stream",
     "text": [
      "\n"
     ]
    }
   ],
   "source": [
    "num_points = 1000\n",
    "num_s1_open_sets = 10\n",
    "num_trials= 20\n",
    "bundle_type = \"mobius_plus_mobius\"\n",
    "sample_type = 'pq_curve'\n",
    "p=15\n",
    "q=15\n",
    "mmpq_15_15_results_df = t2_mse_experiment(num_points,num_s1_open_sets,num_trials,\\\n",
    "                               sample_type=sample_type, bundle_type=bundle_type, p=p, q=q)"
   ]
  },
  {
   "cell_type": "markdown",
   "metadata": {
    "id": "LH2OVeCOEBr_"
   },
   "source": [
    "# Plots and stats"
   ]
  },
  {
   "cell_type": "code",
   "execution_count": 16,
   "metadata": {
    "colab": {
     "background_save": true
    },
    "id": "T0AI7KD2eYZR"
   },
   "outputs": [
    {
     "data": {
      "text/plain": [
       "<Figure size 1920x1440 with 0 Axes>"
      ]
     },
     "metadata": {},
     "output_type": "display_data"
    },
    {
     "data": {
      "image/png": "[encoded data removed]",
      "text/plain": [
       "<Figure size 640x480 with 1 Axes>"
      ]
     },
     "metadata": {},
     "output_type": "display_data"
    }
   ],
   "source": [
    "plt.figure(dpi=300)\n",
    "\n",
    "fig, axes = plt.subplots()\n",
    "\n",
    "axes.violinplot(dataset = [mmuniform_O3_results_df['PCAcost'],\n",
    "                           mmuniform_O3_results_df['GDcost'],\n",
    "                           mmpq_diag_results_df['PCAcost'],\n",
    "                           mmpq_diag_results_df['GDcost'],\n",
    "                           mmpq1_15_results_df['PCAcost'],\n",
    "                           mmpq1_15_results_df['GDcost'],\n",
    "                           ] )\n",
    "\n",
    "axes.set_title('MSE in various data generation and reduction methods')\n",
    "axes.yaxis.grid(True)\n",
    "axes.set_xlabel('Method')\n",
    "axes.set_ylabel('Mean squared error')\n",
    "\n",
    "plt.xticks(rotation=60)\n",
    "plt.xticks([0.5,1.5,2.5,3.5,4.5,5.5],\n",
    "           [\"Uniform to O(3), PCA\", \"Uniform to O(3), GD\", \"(1,1) to O(2), PCA\", \"(1,1) to O(2), GD\",\\\n",
    "                      \"(1,15) to O(2), PCA\", \"(1,15) to O(2), GD\"],\n",
    "           rotation=60\n",
    "           )\n",
    "\n",
    "plt.show()"
   ]
  },
  {
   "cell_type": "code",
   "execution_count": 17,
   "metadata": {
    "colab": {
     "background_save": true
    },
    "id": "IrJ-mt_gBnGg",
    "outputId": "f49080ef-0089-4669-9a16-546bdbf7686e"
   },
   "outputs": [
    {
     "name": "stdout",
     "output_type": "stream",
     "text": [
      "   Selected method 1 Selected method 2  t-statistic       p-value\n",
      "0              O3PCA              O3GD    22.915007  7.557533e-24\n",
      "1              O3PCA             11PCA    39.108095  2.639342e-32\n",
      "2              O3PCA              11GD    92.639400  2.245417e-46\n",
      "3              O3PCA            115PCA   -13.398732  5.646622e-16\n",
      "4              O3PCA             115GD     0.519575  6.063735e-01\n",
      "5               O3GD             11PCA    31.713196  6.019686e-29\n",
      "6               O3GD              11GD   149.885101  2.708077e-54\n",
      "7               O3GD            115PCA   -32.563915  2.279410e-29\n",
      "8               O3GD             115GD   -70.655655  6.258763e-42\n",
      "9              11PCA              11GD    16.053197  1.610802e-18\n",
      "10             11PCA            115PCA   -45.356412  1.060605e-34\n",
      "11             11PCA             115GD   -44.464087  2.226148e-34\n",
      "12              11GD            115PCA   -84.685600  6.695752e-45\n",
      "13              11GD             115GD  -170.865805  1.878101e-56\n",
      "14            115PCA             115GD    16.423118  7.538027e-19\n"
     ]
    }
   ],
   "source": [
    "# List of datasets\n",
    "data = [mmuniform_O3_results_df['PCAcost'],\n",
    "        mmuniform_O3_results_df['GDcost'],\n",
    "        mmpq_diag_results_df['PCAcost'],\n",
    "        mmpq_diag_results_df['GDcost'],\n",
    "        mmpq1_15_results_df['PCAcost'],\n",
    "        mmpq1_15_results_df['GDcost'],\n",
    "        ]\n",
    "labels = ['O3PCA', 'O3GD', '11PCA', '11GD', '115PCA','115GD']\n",
    "\n",
    "# Perform t-tests and store results\n",
    "results = []\n",
    "for i in range(len(data)):\n",
    "    for j in range(i + 1, len(data)):\n",
    "        t_stat, p_val = stats.ttest_ind(data[i], data[j])\n",
    "        results.append({\n",
    "            'Selected method 1': labels[i],\n",
    "            'Selected method 2': labels[j],\n",
    "            't-statistic': t_stat,\n",
    "            'p-value': p_val\n",
    "        })\n",
    "\n",
    "# Create a DataFrame from the results\n",
    "df_results = pd.DataFrame(results)\n",
    "\n",
    "# Display the DataFrame\n",
    "print(df_results)\n"
   ]
  }
 ],
 "metadata": {
  "colab": {
   "provenance": []
  },
  "kernelspec": {
   "display_name": "Python 3 (ipykernel)",
   "language": "python",
   "name": "python3"
  },
  "language_info": {
   "codemirror_mode": {
    "name": "ipython",
    "version": 3
   },
   "file_extension": ".py",
   "mimetype": "text/x-python",
   "name": "python",
   "nbconvert_exporter": "python",
   "pygments_lexer": "ipython3",
   "version": "3.10.14"
  }
 },
 "nbformat": 4,
 "nbformat_minor": 4
}
