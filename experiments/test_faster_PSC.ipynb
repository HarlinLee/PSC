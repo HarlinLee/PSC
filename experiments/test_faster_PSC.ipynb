{
 "cells": [
  {
   "cell_type": "code",
   "execution_count": 1,
   "metadata": {
    "colab": {
     "base_uri": "https://localhost:8080/"
    },
    "executionInfo": {
     "elapsed": 2414,
     "status": "ok",
     "timestamp": 1706755757037,
     "user": {
      "displayName": "H L",
      "userId": "12880377671817957072"
     },
     "user_tz": 300
    },
    "id": "aZztwBZmPsA8",
    "outputId": "a64414ba-a70e-44fd-d6f2-6fea543907cd"
   },
   "outputs": [
    {
     "name": "stdout",
     "output_type": "stream",
     "text": [
      "(13000, 100)\n"
     ]
    }
   ],
   "source": [
    "import numpy as np\n",
    "import matplotlib.pyplot as plt\n",
    "import h5py\n",
    "import os\n",
    "\n",
    "# Load response matrix\n",
    "\n",
    "f = h5py.File(os.path.join(\"neuron\",'centered_normalized_response_matrix_100_neurons_13k_steps_nonuniform_half_random_walk.h5'), 'r')\n",
    "response_matrix = np.array(f.get('raster')).T\n",
    "print(response_matrix.shape)"
   ]
  },
  {
   "cell_type": "code",
   "execution_count": 2,
   "metadata": {
    "executionInfo": {
     "elapsed": 4,
     "status": "ok",
     "timestamp": 1706755757038,
     "user": {
      "displayName": "H L",
      "userId": "12880377671817957072"
     },
     "user_tz": 300
    },
    "id": "nKJueW4IP-bg"
   },
   "outputs": [],
   "source": [
    "ys = response_matrix[:, :, np.newaxis]\n",
    "ys = ys - np.mean(ys, axis=0)"
   ]
  },
  {
   "cell_type": "markdown",
   "metadata": {
    "id": "jZOjPggWVb8n"
   },
   "source": [
    "# Make PCA faster"
   ]
  },
  {
   "cell_type": "code",
   "execution_count": 3,
   "metadata": {
    "executionInfo": {
     "elapsed": 3,
     "status": "ok",
     "timestamp": 1706755757038,
     "user": {
      "displayName": "H L",
      "userId": "12880377671817957072"
     },
     "user_tz": 300
    },
    "id": "EVHOPQASPXkb"
   },
   "outputs": [],
   "source": [
    "def PCA1(ys, n):\n",
    "    S_hat = np.sum(np.array([y.dot(y.T) for y in ys]), axis=0)\n",
    "    _, v = np.linalg.eigh(S_hat)\n",
    "\n",
    "    return np.flip(v[:, -n:], axis=-1)\n",
    "\n",
    "def PCA2(ys, n):\n",
    "    S_hat = np.concatenate(ys, axis=-1)\n",
    "    u, _, _ = np.linalg.svd(S_hat, full_matrices=False)\n",
    "\n",
    "    return u[:, :n]"
   ]
  },
  {
   "cell_type": "code",
   "execution_count": 4,
   "metadata": {
    "colab": {
     "base_uri": "https://localhost:8080/",
     "height": 425
    },
    "executionInfo": {
     "elapsed": 230,
     "status": "error",
     "timestamp": 1706755663134,
     "user": {
      "displayName": "H L",
      "userId": "12880377671817957072"
     },
     "user_tz": 300
    },
    "id": "Hx4QI6djP_Ll",
    "outputId": "444d1c5b-51db-4a41-b81c-57335ba8b684"
   },
   "outputs": [
    {
     "name": "stdout",
     "output_type": "stream",
     "text": [
      "597 ms ± 116 ms per loop (mean ± std. dev. of 7 runs, 1 loop each)\n",
      "505 ms ± 94.8 ms per loop (mean ± std. dev. of 7 runs, 1 loop each)\n"
     ]
    }
   ],
   "source": [
    "%timeit PCA1(ys, 2)\n",
    "%timeit PCA2(ys, 2)"
   ]
  },
  {
   "cell_type": "code",
   "execution_count": 5,
   "metadata": {
    "colab": {
     "base_uri": "https://localhost:8080/"
    },
    "executionInfo": {
     "elapsed": 1695,
     "status": "ok",
     "timestamp": 1703873218172,
     "user": {
      "displayName": "H L",
      "userId": "12880377671817957072"
     },
     "user_tz": 300
    },
    "id": "376WG3jaQih4",
    "outputId": "2ae1dca7-0cc1-449d-b3b6-378bbfca302b"
   },
   "outputs": [
    {
     "data": {
      "text/plain": [
       "True"
      ]
     },
     "execution_count": 5,
     "metadata": {},
     "output_type": "execute_result"
    }
   ],
   "source": [
    "a1 = PCA1(ys, 2)\n",
    "a2 = PCA2(ys, 2)\n",
    "np.allclose(a1, a2)"
   ]
  },
  {
   "cell_type": "markdown",
   "metadata": {
    "id": "pKKPVtVGVfIc"
   },
   "source": [
    "# Make yhat projection faster"
   ]
  },
  {
   "cell_type": "code",
   "execution_count": 6,
   "metadata": {
    "id": "X0N9rL7-Uh7a"
   },
   "outputs": [],
   "source": [
    "def orth_proj(X, k=None):\n",
    "    u, _, vh = np.linalg.svd(X)\n",
    "    if not k:\n",
    "        k = len(vh)\n",
    "    return u[:, :k].dot(vh)\n",
    "\n",
    "def yhat_alpha(alpha, y):\n",
    "    return orth_proj(alpha.T.dot(y))\n",
    "\n",
    "def yhat_alpha_all1(alpha, ys):\n",
    "    return np.array([yhat_alpha(alpha, y) for y in ys])\n",
    "\n",
    "def yhat_alpha_all2(alpha, ys):\n",
    "  Y = alpha.T.dot(ys).transpose((1, 0, 2)) # faster version of np.array([alpha.T.dot(y) for y in ys])\n",
    "  u, s, vh = np.linalg.svd(Y) # faster version of np.array([np.linalg.svd(y) for y in Y])\n",
    "  k = vh.shape[-1]\n",
    "  return np.einsum('ijk,ikl->ijl', u[:, :, :k], vh)"
   ]
  },
  {
   "cell_type": "code",
   "execution_count": 7,
   "metadata": {
    "colab": {
     "base_uri": "https://localhost:8080/"
    },
    "executionInfo": {
     "elapsed": 4881,
     "status": "ok",
     "timestamp": 1703873223052,
     "user": {
      "displayName": "H L",
      "userId": "12880377671817957072"
     },
     "user_tz": 300
    },
    "id": "bKR4UMlrR_hp",
    "outputId": "9e2cc64b-583c-40f5-ba91-a91e049fcf9a"
   },
   "outputs": [
    {
     "name": "stdout",
     "output_type": "stream",
     "text": [
      "64.3 ms ± 438 µs per loop (mean ± std. dev. of 7 runs, 10 loops each)\n",
      "8.9 ms ± 125 µs per loop (mean ± std. dev. of 7 runs, 100 loops each)\n"
     ]
    }
   ],
   "source": [
    "%timeit yhat_alpha_all1(a1, ys)\n",
    "%timeit yhat_alpha_all2(a1, ys)"
   ]
  },
  {
   "cell_type": "code",
   "execution_count": 8,
   "metadata": {
    "colab": {
     "base_uri": "https://localhost:8080/"
    },
    "executionInfo": {
     "elapsed": 239,
     "status": "ok",
     "timestamp": 1703873223289,
     "user": {
      "displayName": "H L",
      "userId": "12880377671817957072"
     },
     "user_tz": 300
    },
    "id": "8HPe11caVIm4",
    "outputId": "5e380e4f-aacb-4b67-c4b9-2d2fa5db3097"
   },
   "outputs": [
    {
     "data": {
      "text/plain": [
       "True"
      ]
     },
     "execution_count": 8,
     "metadata": {},
     "output_type": "execute_result"
    }
   ],
   "source": [
    "x1 = yhat_alpha_all1(a1, ys)\n",
    "x2 = yhat_alpha_all2(a1, ys)\n",
    "np.allclose(x1, x2)"
   ]
  },
  {
   "cell_type": "markdown",
   "metadata": {
    "id": "yf-Vh7WiYTi7"
   },
   "source": [
    "# Make pi_alpha faster"
   ]
  },
  {
   "cell_type": "code",
   "execution_count": 9,
   "metadata": {
    "id": "2M_fWdxQYSyx"
   },
   "outputs": [],
   "source": [
    "def pi_alpha(alpha, y):\n",
    "    return alpha.dot(yhat_alpha(alpha, y))\n",
    "\n",
    "def pi_alpha_all1(alpha, ys):\n",
    "    return np.array([pi_alpha(alpha, y) for y in ys])\n",
    "\n",
    "def pi_alpha_all2(alpha, ys):\n",
    "  yhats = yhat_alpha_all2(alpha, ys)\n",
    "  return alpha.dot(yhats).transpose((1,0,2))"
   ]
  },
  {
   "cell_type": "code",
   "execution_count": 10,
   "metadata": {
    "colab": {
     "base_uri": "https://localhost:8080/"
    },
    "executionInfo": {
     "elapsed": 5906,
     "status": "ok",
     "timestamp": 1703873229194,
     "user": {
      "displayName": "H L",
      "userId": "12880377671817957072"
     },
     "user_tz": 300
    },
    "id": "jo51EMEqYXVL",
    "outputId": "c07e1052-d53a-4a5c-9829-d766e78a0783"
   },
   "outputs": [
    {
     "name": "stdout",
     "output_type": "stream",
     "text": [
      "80.6 ms ± 779 µs per loop (mean ± std. dev. of 7 runs, 10 loops each)\n",
      "15.6 ms ± 74.6 µs per loop (mean ± std. dev. of 7 runs, 100 loops each)\n"
     ]
    }
   ],
   "source": [
    "%timeit pi_alpha_all1(a1, ys)\n",
    "%timeit pi_alpha_all2(a1, ys)"
   ]
  },
  {
   "cell_type": "code",
   "execution_count": 11,
   "metadata": {
    "colab": {
     "base_uri": "https://localhost:8080/"
    },
    "executionInfo": {
     "elapsed": 397,
     "status": "ok",
     "timestamp": 1703873229583,
     "user": {
      "displayName": "H L",
      "userId": "12880377671817957072"
     },
     "user_tz": 300
    },
    "id": "4bxjSYhKYn1k",
    "outputId": "35f7e190-4749-43de-8b99-f59459736248"
   },
   "outputs": [
    {
     "data": {
      "text/plain": [
       "True"
      ]
     },
     "execution_count": 11,
     "metadata": {},
     "output_type": "execute_result"
    }
   ],
   "source": [
    "x1 = pi_alpha_all1(a1, ys)\n",
    "x2 = pi_alpha_all2(a1, ys)\n",
    "np.allclose(x1, x2)"
   ]
  },
  {
   "cell_type": "markdown",
   "metadata": {
    "id": "82Y-CCJiZDoW"
   },
   "source": [
    "# Make cost calculation faster"
   ]
  },
  {
   "cell_type": "code",
   "execution_count": 12,
   "metadata": {
    "id": "NHIND_b0ZDBc"
   },
   "outputs": [],
   "source": [
    "def projection_cost1(alpha, ys):\n",
    "    return np.sum([np.linalg.norm(y - pi_alpha(alpha, y), 'fro')**2 for y in ys])/len(ys)\n",
    "\n",
    "def projection_cost2(alpha, ys):\n",
    "    return np.sum((ys - pi_alpha_all2(alpha, ys))**2)/len(ys)"
   ]
  },
  {
   "cell_type": "code",
   "execution_count": 13,
   "metadata": {
    "colab": {
     "base_uri": "https://localhost:8080/"
    },
    "executionInfo": {
     "elapsed": 9122,
     "status": "ok",
     "timestamp": 1703873238702,
     "user": {
      "displayName": "H L",
      "userId": "12880377671817957072"
     },
     "user_tz": 300
    },
    "id": "puoDQFocZlQZ",
    "outputId": "84cd64c7-fc07-4001-bc39-53d76233fa1a"
   },
   "outputs": [
    {
     "name": "stdout",
     "output_type": "stream",
     "text": [
      "102 ms ± 781 µs per loop (mean ± std. dev. of 7 runs, 10 loops each)\n",
      "16.9 ms ± 170 µs per loop (mean ± std. dev. of 7 runs, 100 loops each)\n"
     ]
    }
   ],
   "source": [
    "%timeit projection_cost1(a1, ys)\n",
    "%timeit projection_cost2(a1, ys)"
   ]
  },
  {
   "cell_type": "code",
   "execution_count": 14,
   "metadata": {
    "colab": {
     "base_uri": "https://localhost:8080/"
    },
    "executionInfo": {
     "elapsed": 245,
     "status": "ok",
     "timestamp": 1703873238945,
     "user": {
      "displayName": "H L",
      "userId": "12880377671817957072"
     },
     "user_tz": 300
    },
    "id": "IHpR4NXrZZa4",
    "outputId": "cec291b8-f884-462a-fffd-cb5b5e99e86c"
   },
   "outputs": [
    {
     "data": {
      "text/plain": [
       "True"
      ]
     },
     "execution_count": 14,
     "metadata": {},
     "output_type": "execute_result"
    }
   ],
   "source": [
    "x1 = projection_cost1(a1, ys)\n",
    "x2 = projection_cost2(a1, ys)\n",
    "np.allclose(x1, x2)"
   ]
  },
  {
   "cell_type": "code",
   "execution_count": 15,
   "metadata": {
    "id": "_TUErVVDZPU1"
   },
   "outputs": [],
   "source": [
    "def nuc_cost1(alpha, ys):\n",
    "    return -np.sum([np.linalg.norm(alpha.T.dot(y), 'nuc') for y in ys])/len(ys)\n",
    "\n",
    "def nuc_cost2(alpha, ys):\n",
    "  Y = alpha.T.dot(ys).transpose((1, 0, 2))\n",
    "  u, s, vh = np.linalg.svd(Y)\n",
    "  return -np.sum(s)/len(ys)\n"
   ]
  },
  {
   "cell_type": "code",
   "execution_count": 16,
   "metadata": {
    "colab": {
     "base_uri": "https://localhost:8080/"
    },
    "executionInfo": {
     "elapsed": 5769,
     "status": "ok",
     "timestamp": 1703873244713,
     "user": {
      "displayName": "H L",
      "userId": "12880377671817957072"
     },
     "user_tz": 300
    },
    "id": "3wdrHIkbZzaX",
    "outputId": "ca16c491-33e5-4144-d7d9-6acd645a6f5e"
   },
   "outputs": [
    {
     "name": "stdout",
     "output_type": "stream",
     "text": [
      "95.1 ms ± 1.83 ms per loop (mean ± std. dev. of 7 runs, 10 loops each)\n",
      "8.96 ms ± 198 µs per loop (mean ± std. dev. of 7 runs, 100 loops each)\n"
     ]
    }
   ],
   "source": [
    "%timeit nuc_cost1(a1, ys)\n",
    "%timeit nuc_cost2(a1, ys)"
   ]
  },
  {
   "cell_type": "code",
   "execution_count": 17,
   "metadata": {
    "colab": {
     "base_uri": "https://localhost:8080/"
    },
    "executionInfo": {
     "elapsed": 715,
     "status": "ok",
     "timestamp": 1703873245426,
     "user": {
      "displayName": "H L",
      "userId": "12880377671817957072"
     },
     "user_tz": 300
    },
    "id": "AhC1EJ_7Z1aO",
    "outputId": "1792b0cc-13f0-4b42-def4-0dbfe26710d4"
   },
   "outputs": [
    {
     "data": {
      "text/plain": [
       "True"
      ]
     },
     "execution_count": 17,
     "metadata": {},
     "output_type": "execute_result"
    }
   ],
   "source": [
    "x1 = nuc_cost1(a1, ys)\n",
    "x2 = nuc_cost2(a1, ys)\n",
    "np.allclose(x1, x2)"
   ]
  },
  {
   "cell_type": "markdown",
   "metadata": {
    "id": "MtT1Xd4ea2Jo"
   },
   "source": [
    "# Make manopt_alpha faster"
   ]
  },
  {
   "cell_type": "code",
   "execution_count": 18,
   "metadata": {
    "executionInfo": {
     "elapsed": 9205,
     "status": "ok",
     "timestamp": 1706755775289,
     "user": {
      "displayName": "H L",
      "userId": "12880377671817957072"
     },
     "user_tz": 300
    },
    "id": "sP8r4_BvNQfP"
   },
   "outputs": [],
   "source": [
    "import autograd.numpy as anp\n",
    "from pymanopt.manifolds.stiefel import Stiefel\n",
    "from pymanopt.core.problem import Problem\n",
    "from pymanopt.function import autograd, numpy\n",
    "from pymanopt import optimizers\n",
    "\n",
    "def manopt_alpha1(ys, alpha_init, verbosity=1):\n",
    "    N, n = alpha_init.shape\n",
    "    st_Nn = Stiefel(N, n)\n",
    "\n",
    "    @autograd(st_Nn)\n",
    "    def cost(point):\n",
    "        return -anp.sum([anp.linalg.norm(anp.dot(point.T, y), 'nuc') for y in ys])/len(ys)\n",
    "\n",
    "    problem = Problem(st_Nn, cost=cost)\n",
    "    optimizer = optimizers.SteepestDescent(verbosity=verbosity)\n",
    "    res = optimizer.run(problem, initial_point=alpha_init).point\n",
    "\n",
    "    # print('nuc_cost of initial alpha', cost(alpha_init), 'nuc_cost of final alpha', cost(res))\n",
    "    # print('projection_cost of initial alpha', projection_cost(alpha_init, ys), 'projection_cost of final alpha', projection_cost(res, ys))\n",
    "    return res\n",
    "\n",
    "def manopt_alpha2(ys, alpha_init, verbosity=1):\n",
    "    N, n = alpha_init.shape\n",
    "    st_Nn = Stiefel(N, n)\n",
    "\n",
    "    @autograd(st_Nn)\n",
    "    def cost(point):\n",
    "        Y = anp.dot(anp.transpose(point), ys)\n",
    "        Y = anp.swapaxes(Y, 1, 0)\n",
    "        u, s, vh = anp.linalg.svd(Y, full_matrices=False)\n",
    "        return -anp.sum(s)/len(ys)\n",
    "\n",
    "    problem = Problem(st_Nn, cost=cost)\n",
    "    optimizer = optimizers.SteepestDescent(verbosity=verbosity)\n",
    "    res = optimizer.run(problem, initial_point=anp.array(alpha_init)).point\n",
    "\n",
    "    # print('nuc_cost of initial alpha', cost(alpha_init), 'nuc_cost of final alpha', cost(res))\n",
    "    # print('projection_cost of initial alpha', projection_cost(alpha_init, ys), 'projection_cost of final alpha', projection_cost(res, ys))\n",
    "    return res"
   ]
  },
  {
   "cell_type": "code",
   "execution_count": 19,
   "metadata": {
    "colab": {
     "base_uri": "https://localhost:8080/"
    },
    "executionInfo": {
     "elapsed": 354984,
     "status": "ok",
     "timestamp": 1703873607918,
     "user": {
      "displayName": "H L",
      "userId": "12880377671817957072"
     },
     "user_tz": 300
    },
    "id": "c6p8XakneWof",
    "outputId": "01129a70-8745-482e-d05a-6d1a35c89066"
   },
   "outputs": [
    {
     "name": "stdout",
     "output_type": "stream",
     "text": [
      "Optimizing...\n",
      "Iteration    Cost                       Gradient norm     \n",
      "---------    -----------------------    --------------    \n",
      "   1         -3.6574821471507618e-01    6.68931555e-02    \n",
      "   2         -3.7816227656240881e-01    8.44618316e-02    \n",
      "   3         -3.9996651832323776e-01    3.58912720e-02    \n",
      "   4         -4.0219798555869007e-01    4.27138891e-02    \n",
      "   5         -4.0727973361841563e-01    1.13127138e-02    \n",
      "   6         -4.0752822439418362e-01    1.42102700e-02    \n",
      "   7         -4.0816024022744979e-01    5.06526215e-03    \n",
      "   8         -4.0831577774482447e-01    3.66670567e-03    \n",
      "   9         -4.0841210843044357e-01    6.53883376e-03    \n",
      "  10         -4.0856908822534416e-01    4.27192289e-03    \n",
      "  11         -4.0861537303224704e-01    7.85643646e-03    \n",
      "  12         -4.0875315424557784e-01    4.21594358e-03    \n",
      "  13         -4.0882286823401631e-01    6.89291590e-03    \n",
      "  14         -4.0896794268601866e-01    3.34659866e-03    \n",
      "  15         -4.0912372881756276e-01    6.51163702e-03    \n",
      "  16         -4.0924416817644221e-01    4.06078389e-03    \n",
      "  17         -4.0927736506711804e-01    6.48556326e-03    \n",
      "  18         -4.0937243249692995e-01    3.10838323e-03    \n",
      "  19         -4.0937730213949752e-01    6.37268180e-03    \n",
      "  20         -4.0939589894338879e-01    5.79746248e-03    \n",
      "  21         -4.0945494989675701e-01    3.46679953e-03    \n",
      "  22         -4.0947872182450823e-01    3.22720756e-03    \n",
      "  23         -4.0949902598557308e-01    2.69295365e-03    \n",
      "  24         -4.0950090455534072e-01    3.24328237e-03    \n",
      "  25         -4.0950790449471369e-01    2.80123544e-03    \n",
      "  26         -4.0952651905753285e-01    1.05316687e-03    \n",
      "  27         -4.0952798228672638e-01    1.82339090e-03    \n",
      "  28         -4.0953286216000351e-01    1.22649547e-03    \n",
      "  29         -4.0953708169642050e-01    5.36525975e-04    \n",
      "  30         -4.0953820421831355e-01    7.52965767e-04    \n",
      "  31         -4.0953951370686320e-01    4.86880452e-04    \n",
      "  32         -4.0953977349370324e-01    5.65072462e-04    \n",
      "  33         -4.0954049736650477e-01    2.43223591e-04    \n",
      "  34         -4.0954067983813214e-01    2.95247417e-04    \n",
      "  35         -4.0954087784805543e-01    2.14610566e-04    \n",
      "  36         -4.0954099063948191e-01    1.64748595e-04    \n",
      "  37         -4.0954106436218624e-01    1.19975536e-04    \n",
      "  38         -4.0954109772937480e-01    1.21501425e-04    \n",
      "  39         -4.0954112662568004e-01    1.02467426e-04    \n",
      "  40         -4.0954112989870389e-01    1.22277928e-04    \n",
      "  41         -4.0954114188073981e-01    1.01654497e-04    \n",
      "  42         -4.0954116878748215e-01    2.74476011e-05    \n",
      "  43         -4.0954116908359839e-01    6.85650423e-05    \n",
      "  44         -4.0954117023908221e-01    6.52133940e-05    \n",
      "  45         -4.0954117437535459e-01    5.15922179e-05    \n",
      "  46         -4.0954118124635336e-01    1.83576142e-05    \n",
      "  47         -4.0954118268561068e-01    1.72594536e-05    \n",
      "  48         -4.0954118357877095e-01    1.57521296e-05    \n",
      "  49         -4.0954118434605297e-01    9.21077961e-06    \n",
      "  50         -4.0954118435600406e-01    1.76872631e-05    \n",
      "  51         -4.0954118439531473e-01    1.72485971e-05    \n",
      "  52         -4.0954118454447080e-01    1.54790629e-05    \n",
      "  53         -4.0954118499808256e-01    8.24193442e-06    \n",
      "  54         -4.0954118519855631e-01    4.15168390e-06    \n",
      "  55         -4.0954118528479916e-01    4.38384116e-06    \n",
      "  56         -4.0954118533986711e-01    3.62671448e-06    \n",
      "  57         -4.0954118537855921e-01    2.69924135e-06    \n",
      "  58         -4.0954118539634760e-01    2.86363438e-06    \n",
      "  59         -4.0954118541383466e-01    2.25037801e-06    \n",
      "  60         -4.0954118542802098e-01    1.17861930e-06    \n",
      "  61         -4.0954118543363732e-01    1.13172744e-06    \n",
      "  62         -4.0954118543753876e-01    9.12834848e-07    \n",
      "Terminated - min grad norm reached after 62 iterations, 75.39 seconds.\n",
      "\n",
      "Optimizing...\n",
      "Iteration    Cost                       Gradient norm     \n",
      "---------    -----------------------    --------------    \n",
      "   1         -3.6574821471507618e-01    6.68931555e-02    \n",
      "   2         -3.7816227656240881e-01    8.44618316e-02    \n",
      "   3         -3.9996651832323749e-01    3.58912720e-02    \n",
      "   4         -4.0219798555869035e-01    4.27138891e-02    \n",
      "   5         -4.0727973361841596e-01    1.13127138e-02    \n",
      "   6         -4.0752822439418307e-01    1.42102700e-02    \n",
      "   7         -4.0816024022744885e-01    5.06526215e-03    \n",
      "   8         -4.0831577774482403e-01    3.66670567e-03    \n",
      "   9         -4.0841210843044329e-01    6.53883376e-03    \n",
      "  10         -4.0856908822534649e-01    4.27192289e-03    \n",
      "  11         -4.0861537303224460e-01    7.85643646e-03    \n",
      "  12         -4.0875315424556863e-01    4.21594358e-03    \n",
      "  13         -4.0882286823401004e-01    6.89291590e-03    \n",
      "  14         -4.0896794268598158e-01    3.34659866e-03    \n",
      "  15         -4.0912372881725295e-01    6.51163702e-03    \n",
      "  16         -4.0924416817644432e-01    4.06078388e-03    \n",
      "  17         -4.0927736506630374e-01    6.48556331e-03    \n",
      "  18         -4.0937243249516009e-01    3.10838335e-03    \n",
      "  19         -4.0937730213885976e-01    6.37268165e-03    \n",
      "  20         -4.0939589894683309e-01    5.79746219e-03    \n",
      "  21         -4.0945494990842568e-01    3.46679868e-03    \n",
      "  22         -4.0947872179156897e-01    3.22721013e-03    \n",
      "  23         -4.0949902615080802e-01    2.69293884e-03    \n",
      "  24         -4.0950090324481608e-01    3.24337399e-03    \n",
      "  25         -4.0950789811583432e-01    2.80168296e-03    \n",
      "  26         -4.0952650874022423e-01    1.05472410e-03    \n",
      "  27         -4.0952798593477313e-01    1.82101559e-03    \n",
      "  28         -4.0953290080129401e-01    1.21809786e-03    \n",
      "  29         -4.0953704698942667e-01    5.54601826e-04    \n",
      "  30         -4.0953819934710795e-01    7.22986098e-04    \n",
      "  31         -4.0953925468836722e-01    5.76927819e-04    \n",
      "  32         -4.0954019989609647e-01    2.53473490e-04    \n",
      "  33         -4.0954052153695669e-01    3.38931802e-04    \n",
      "  34         -4.0954055062330003e-01    4.12638977e-04    \n",
      "  35         -4.0954065929865596e-01    3.58451650e-04    \n",
      "  36         -4.0954095452844808e-01    1.41947450e-04    \n",
      "  37         -4.0954098226583996e-01    2.20851159e-04    \n",
      "  38         -4.0954106937353746e-01    1.28492949e-04    \n",
      "  39         -4.0954109358668922e-01    1.38847065e-04    \n",
      "  40         -4.0954114576845213e-01    4.19051571e-05    \n",
      "  41         -4.0954117658088551e-01    4.80823510e-05    \n",
      "  42         -4.0954118199462614e-01    2.08987826e-05    \n",
      "  43         -4.0954118211549745e-01    2.92897688e-05    \n",
      "  44         -4.0954118257245320e-01    2.60877043e-05    \n",
      "  45         -4.0954118392998273e-01    1.32015715e-05    \n",
      "  46         -4.0954118449153765e-01    9.14161655e-06    \n",
      "  47         -4.0954118466512018e-01    1.30149557e-05    \n",
      "  48         -4.0954118509145820e-01    4.29071679e-06    \n",
      "  49         -4.0954118524933919e-01    7.09768672e-06    \n",
      "  50         -4.0954118537252332e-01    2.65932909e-06    \n",
      "  51         -4.0954118539743273e-01    2.16337661e-06    \n",
      "  52         -4.0954118541071954e-01    2.31925849e-06    \n",
      "  53         -4.0954118541853635e-01    2.35614583e-06    \n",
      "  54         -4.0954118543329171e-01    8.04150048e-07    \n",
      "Terminated - min grad norm reached after 54 iterations, 3.97 seconds.\n",
      "\n"
     ]
    },
    {
     "data": {
      "text/plain": [
       "False"
      ]
     },
     "execution_count": 19,
     "metadata": {},
     "output_type": "execute_result"
    }
   ],
   "source": [
    "x1 = manopt_alpha1(ys, a1, verbosity=2)\n",
    "x2 = manopt_alpha2(ys, a1, verbosity=2)\n",
    "np.allclose(x1, x2) # seems to not give the same result"
   ]
  }
 ],
 "metadata": {
  "colab": {
   "authorship_tag": "ABX9TyPiKXYcfw6hCC6tTnkXtQS0",
   "provenance": []
  },
  "kernelspec": {
   "display_name": "Python 3 (ipykernel)",
   "language": "python",
   "name": "python3"
  },
  "language_info": {
   "codemirror_mode": {
    "name": "ipython",
    "version": 3
   },
   "file_extension": ".py",
   "mimetype": "text/x-python",
   "name": "python",
   "nbconvert_exporter": "python",
   "pygments_lexer": "ipython3",
   "version": "3.10.13"
  }
 },
 "nbformat": 4,
 "nbformat_minor": 4
}
