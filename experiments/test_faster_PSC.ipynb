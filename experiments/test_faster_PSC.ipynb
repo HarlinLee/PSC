{
 "cells": [
  {
   "cell_type": "code",
   "execution_count": 1,
   "metadata": {
    "colab": {
     "base_uri": "https://localhost:8080/"
    },
    "executionInfo": {
     "elapsed": 2414,
     "status": "ok",
     "timestamp": 1706755757037,
     "user": {
      "displayName": "H L",
      "userId": "12880377671817957072"
     },
     "user_tz": 300
    },
    "id": "aZztwBZmPsA8",
    "outputId": "a64414ba-a70e-44fd-d6f2-6fea543907cd"
   },
   "outputs": [
    {
     "name": "stdout",
     "output_type": "stream",
     "text": [
      "(13000, 100)\n"
     ]
    }
   ],
   "source": [
    "import numpy as np\n",
    "import matplotlib.pyplot as plt\n",
    "import h5py\n",
    "import os\n",
    "\n",
    "# Load response matrix\n",
    "\n",
    "f = h5py.File(os.path.join(\"neuron\",'centered_normalized_response_matrix_100_neurons_13k_steps_nonuniform_half_random_walk.h5'), 'r')\n",
    "response_matrix = np.array(f.get('raster')).T\n",
    "print(response_matrix.shape)"
   ]
  },
  {
   "cell_type": "code",
   "execution_count": 2,
   "metadata": {
    "executionInfo": {
     "elapsed": 4,
     "status": "ok",
     "timestamp": 1706755757038,
     "user": {
      "displayName": "H L",
      "userId": "12880377671817957072"
     },
     "user_tz": 300
    },
    "id": "nKJueW4IP-bg"
   },
   "outputs": [],
   "source": [
    "ys = response_matrix[:, :, np.newaxis]\n",
    "ys = ys - np.mean(ys, axis=0)"
   ]
  },
  {
   "cell_type": "markdown",
   "metadata": {
    "id": "jZOjPggWVb8n"
   },
   "source": [
    "# Make PCA faster"
   ]
  },
  {
   "cell_type": "code",
   "execution_count": 3,
   "metadata": {
    "executionInfo": {
     "elapsed": 3,
     "status": "ok",
     "timestamp": 1706755757038,
     "user": {
      "displayName": "H L",
      "userId": "12880377671817957072"
     },
     "user_tz": 300
    },
    "id": "EVHOPQASPXkb"
   },
   "outputs": [],
   "source": [
    "def PCA1(ys, n):\n",
    "    S_hat = np.sum(np.array([y.dot(y.T) for y in ys]), axis=0)\n",
    "    _, v = np.linalg.eigh(S_hat)\n",
    "\n",
    "    return np.flip(v[:, -n:], axis=-1)\n",
    "\n",
    "def PCA2(ys, n):\n",
    "    S_hat = np.concatenate(ys, axis=-1)\n",
    "    u, _, _ = np.linalg.svd(S_hat, full_matrices=False)\n",
    "\n",
    "    return u[:, :n]"
   ]
  },
  {
   "cell_type": "code",
   "execution_count": 4,
   "metadata": {
    "colab": {
     "base_uri": "https://localhost:8080/",
     "height": 425
    },
    "executionInfo": {
     "elapsed": 230,
     "status": "error",
     "timestamp": 1706755663134,
     "user": {
      "displayName": "H L",
      "userId": "12880377671817957072"
     },
     "user_tz": 300
    },
    "id": "Hx4QI6djP_Ll",
    "outputId": "444d1c5b-51db-4a41-b81c-57335ba8b684"
   },
   "outputs": [
    {
     "name": "stdout",
     "output_type": "stream",
     "text": [
      "370 ms ± 17.1 ms per loop (mean ± std. dev. of 7 runs, 1 loop each)\n",
      "113 ms ± 1.48 ms per loop (mean ± std. dev. of 7 runs, 10 loops each)\n"
     ]
    }
   ],
   "source": [
    "%timeit PCA1(ys, 2)\n",
    "%timeit PCA2(ys, 2)"
   ]
  },
  {
   "cell_type": "code",
   "execution_count": 5,
   "metadata": {
    "colab": {
     "base_uri": "https://localhost:8080/"
    },
    "executionInfo": {
     "elapsed": 1695,
     "status": "ok",
     "timestamp": 1703873218172,
     "user": {
      "displayName": "H L",
      "userId": "12880377671817957072"
     },
     "user_tz": 300
    },
    "id": "376WG3jaQih4",
    "outputId": "2ae1dca7-0cc1-449d-b3b6-378bbfca302b"
   },
   "outputs": [
    {
     "data": {
      "text/plain": [
       "True"
      ]
     },
     "execution_count": 5,
     "metadata": {},
     "output_type": "execute_result"
    }
   ],
   "source": [
    "a1 = PCA1(ys, 2)\n",
    "a2 = PCA2(ys, 2)\n",
    "np.allclose(a1, a2)"
   ]
  },
  {
   "cell_type": "markdown",
   "metadata": {
    "id": "pKKPVtVGVfIc"
   },
   "source": [
    "# Make yhat projection faster"
   ]
  },
  {
   "cell_type": "code",
   "execution_count": 6,
   "metadata": {
    "id": "X0N9rL7-Uh7a"
   },
   "outputs": [],
   "source": [
    "def orth_proj(X, k=None):\n",
    "    u, _, vh = np.linalg.svd(X)\n",
    "    if not k:\n",
    "        k = len(vh)\n",
    "    return u[:, :k].dot(vh)\n",
    "\n",
    "def yhat_alpha(alpha, y):\n",
    "    return orth_proj(alpha.T.dot(y))\n",
    "\n",
    "def yhat_alpha_all1(alpha, ys):\n",
    "    return np.array([yhat_alpha(alpha, y) for y in ys])\n",
    "\n",
    "def yhat_alpha_all2(alpha, ys):\n",
    "  Y = alpha.T.dot(ys).transpose((1, 0, 2)) # faster version of np.array([alpha.T.dot(y) for y in ys])\n",
    "  u, s, vh = np.linalg.svd(Y) # faster version of np.array([np.linalg.svd(y) for y in Y])\n",
    "  k = vh.shape[-1]\n",
    "  return np.einsum('ijk,ikl->ijl', u[:, :, :k], vh)"
   ]
  },
  {
   "cell_type": "code",
   "execution_count": 7,
   "metadata": {
    "colab": {
     "base_uri": "https://localhost:8080/"
    },
    "executionInfo": {
     "elapsed": 4881,
     "status": "ok",
     "timestamp": 1703873223052,
     "user": {
      "displayName": "H L",
      "userId": "12880377671817957072"
     },
     "user_tz": 300
    },
    "id": "bKR4UMlrR_hp",
    "outputId": "9e2cc64b-583c-40f5-ba91-a91e049fcf9a"
   },
   "outputs": [
    {
     "name": "stdout",
     "output_type": "stream",
     "text": [
      "70.4 ms ± 904 μs per loop (mean ± std. dev. of 7 runs, 10 loops each)\n",
      "8.86 ms ± 141 μs per loop (mean ± std. dev. of 7 runs, 100 loops each)\n"
     ]
    }
   ],
   "source": [
    "%timeit yhat_alpha_all1(a1, ys)\n",
    "%timeit yhat_alpha_all2(a1, ys)"
   ]
  },
  {
   "cell_type": "code",
   "execution_count": 8,
   "metadata": {
    "colab": {
     "base_uri": "https://localhost:8080/"
    },
    "executionInfo": {
     "elapsed": 239,
     "status": "ok",
     "timestamp": 1703873223289,
     "user": {
      "displayName": "H L",
      "userId": "12880377671817957072"
     },
     "user_tz": 300
    },
    "id": "8HPe11caVIm4",
    "outputId": "5e380e4f-aacb-4b67-c4b9-2d2fa5db3097"
   },
   "outputs": [
    {
     "data": {
      "text/plain": [
       "True"
      ]
     },
     "execution_count": 8,
     "metadata": {},
     "output_type": "execute_result"
    }
   ],
   "source": [
    "x1 = yhat_alpha_all1(a1, ys)\n",
    "x2 = yhat_alpha_all2(a1, ys)\n",
    "np.allclose(x1, x2)"
   ]
  },
  {
   "cell_type": "markdown",
   "metadata": {
    "id": "yf-Vh7WiYTi7"
   },
   "source": [
    "# Make pi_alpha faster"
   ]
  },
  {
   "cell_type": "code",
   "execution_count": 9,
   "metadata": {
    "id": "2M_fWdxQYSyx"
   },
   "outputs": [],
   "source": [
    "def pi_alpha(alpha, y):\n",
    "    return alpha.dot(yhat_alpha(alpha, y))\n",
    "\n",
    "def pi_alpha_all1(alpha, ys):\n",
    "    return np.array([pi_alpha(alpha, y) for y in ys])\n",
    "\n",
    "def pi_alpha_all2(alpha, ys):\n",
    "  yhats = yhat_alpha_all2(alpha, ys)\n",
    "  return alpha.dot(yhats).transpose((1,0,2))"
   ]
  },
  {
   "cell_type": "code",
   "execution_count": 10,
   "metadata": {
    "colab": {
     "base_uri": "https://localhost:8080/"
    },
    "executionInfo": {
     "elapsed": 5906,
     "status": "ok",
     "timestamp": 1703873229194,
     "user": {
      "displayName": "H L",
      "userId": "12880377671817957072"
     },
     "user_tz": 300
    },
    "id": "jo51EMEqYXVL",
    "outputId": "c07e1052-d53a-4a5c-9829-d766e78a0783"
   },
   "outputs": [
    {
     "name": "stdout",
     "output_type": "stream",
     "text": [
      "87.9 ms ± 722 μs per loop (mean ± std. dev. of 7 runs, 10 loops each)\n",
      "15.9 ms ± 288 μs per loop (mean ± std. dev. of 7 runs, 100 loops each)\n"
     ]
    }
   ],
   "source": [
    "%timeit pi_alpha_all1(a1, ys)\n",
    "%timeit pi_alpha_all2(a1, ys)"
   ]
  },
  {
   "cell_type": "code",
   "execution_count": 11,
   "metadata": {
    "colab": {
     "base_uri": "https://localhost:8080/"
    },
    "executionInfo": {
     "elapsed": 397,
     "status": "ok",
     "timestamp": 1703873229583,
     "user": {
      "displayName": "H L",
      "userId": "12880377671817957072"
     },
     "user_tz": 300
    },
    "id": "4bxjSYhKYn1k",
    "outputId": "35f7e190-4749-43de-8b99-f59459736248"
   },
   "outputs": [
    {
     "data": {
      "text/plain": [
       "True"
      ]
     },
     "execution_count": 11,
     "metadata": {},
     "output_type": "execute_result"
    }
   ],
   "source": [
    "x1 = pi_alpha_all1(a1, ys)\n",
    "x2 = pi_alpha_all2(a1, ys)\n",
    "np.allclose(x1, x2)"
   ]
  },
  {
   "cell_type": "markdown",
   "metadata": {
    "id": "82Y-CCJiZDoW"
   },
   "source": [
    "# Make cost calculation faster"
   ]
  },
  {
   "cell_type": "code",
   "execution_count": 12,
   "metadata": {
    "id": "NHIND_b0ZDBc"
   },
   "outputs": [],
   "source": [
    "def projection_cost1(alpha, ys):\n",
    "    return np.sum([np.linalg.norm(y - pi_alpha(alpha, y), 'fro')**2 for y in ys])/len(ys)\n",
    "\n",
    "def projection_cost2(alpha, ys):\n",
    "    return np.sum((ys - pi_alpha_all2(alpha, ys))**2)/len(ys)"
   ]
  },
  {
   "cell_type": "code",
   "execution_count": 13,
   "metadata": {
    "colab": {
     "base_uri": "https://localhost:8080/"
    },
    "executionInfo": {
     "elapsed": 9122,
     "status": "ok",
     "timestamp": 1703873238702,
     "user": {
      "displayName": "H L",
      "userId": "12880377671817957072"
     },
     "user_tz": 300
    },
    "id": "puoDQFocZlQZ",
    "outputId": "84cd64c7-fc07-4001-bc39-53d76233fa1a"
   },
   "outputs": [
    {
     "name": "stdout",
     "output_type": "stream",
     "text": [
      "111 ms ± 858 μs per loop (mean ± std. dev. of 7 runs, 10 loops each)\n",
      "16.8 ms ± 162 μs per loop (mean ± std. dev. of 7 runs, 100 loops each)\n"
     ]
    }
   ],
   "source": [
    "%timeit projection_cost1(a1, ys)\n",
    "%timeit projection_cost2(a1, ys)"
   ]
  },
  {
   "cell_type": "code",
   "execution_count": 14,
   "metadata": {
    "colab": {
     "base_uri": "https://localhost:8080/"
    },
    "executionInfo": {
     "elapsed": 245,
     "status": "ok",
     "timestamp": 1703873238945,
     "user": {
      "displayName": "H L",
      "userId": "12880377671817957072"
     },
     "user_tz": 300
    },
    "id": "IHpR4NXrZZa4",
    "outputId": "cec291b8-f884-462a-fffd-cb5b5e99e86c"
   },
   "outputs": [
    {
     "data": {
      "text/plain": [
       "True"
      ]
     },
     "execution_count": 14,
     "metadata": {},
     "output_type": "execute_result"
    }
   ],
   "source": [
    "x1 = projection_cost1(a1, ys)\n",
    "x2 = projection_cost2(a1, ys)\n",
    "np.allclose(x1, x2)"
   ]
  },
  {
   "cell_type": "code",
   "execution_count": 15,
   "metadata": {
    "id": "_TUErVVDZPU1"
   },
   "outputs": [],
   "source": [
    "def nuc_cost1(alpha, ys):\n",
    "    return -np.sum([np.linalg.norm(alpha.T.dot(y), 'nuc') for y in ys])/len(ys)\n",
    "\n",
    "def nuc_cost2(alpha, ys):\n",
    "  Y = alpha.T.dot(ys).transpose((1, 0, 2))\n",
    "  u, s, vh = np.linalg.svd(Y)\n",
    "  return -np.sum(s)/len(ys)\n"
   ]
  },
  {
   "cell_type": "code",
   "execution_count": 16,
   "metadata": {
    "colab": {
     "base_uri": "https://localhost:8080/"
    },
    "executionInfo": {
     "elapsed": 5769,
     "status": "ok",
     "timestamp": 1703873244713,
     "user": {
      "displayName": "H L",
      "userId": "12880377671817957072"
     },
     "user_tz": 300
    },
    "id": "3wdrHIkbZzaX",
    "outputId": "ca16c491-33e5-4144-d7d9-6acd645a6f5e"
   },
   "outputs": [
    {
     "name": "stdout",
     "output_type": "stream",
     "text": [
      "106 ms ± 3.05 ms per loop (mean ± std. dev. of 7 runs, 10 loops each)\n",
      "8.81 ms ± 159 μs per loop (mean ± std. dev. of 7 runs, 100 loops each)\n"
     ]
    }
   ],
   "source": [
    "%timeit nuc_cost1(a1, ys)\n",
    "%timeit nuc_cost2(a1, ys)"
   ]
  },
  {
   "cell_type": "code",
   "execution_count": 17,
   "metadata": {
    "colab": {
     "base_uri": "https://localhost:8080/"
    },
    "executionInfo": {
     "elapsed": 715,
     "status": "ok",
     "timestamp": 1703873245426,
     "user": {
      "displayName": "H L",
      "userId": "12880377671817957072"
     },
     "user_tz": 300
    },
    "id": "AhC1EJ_7Z1aO",
    "outputId": "1792b0cc-13f0-4b42-def4-0dbfe26710d4"
   },
   "outputs": [
    {
     "data": {
      "text/plain": [
       "True"
      ]
     },
     "execution_count": 17,
     "metadata": {},
     "output_type": "execute_result"
    }
   ],
   "source": [
    "x1 = nuc_cost1(a1, ys)\n",
    "x2 = nuc_cost2(a1, ys)\n",
    "np.allclose(x1, x2)"
   ]
  },
  {
   "cell_type": "markdown",
   "metadata": {
    "id": "MtT1Xd4ea2Jo"
   },
   "source": [
    "# Make manopt_alpha faster"
   ]
  },
  {
   "cell_type": "code",
   "execution_count": 18,
   "metadata": {
    "executionInfo": {
     "elapsed": 9205,
     "status": "ok",
     "timestamp": 1706755775289,
     "user": {
      "displayName": "H L",
      "userId": "12880377671817957072"
     },
     "user_tz": 300
    },
    "id": "sP8r4_BvNQfP"
   },
   "outputs": [],
   "source": [
    "import autograd.numpy as anp\n",
    "from pymanopt.manifolds.stiefel import Stiefel\n",
    "from pymanopt.core.problem import Problem\n",
    "from pymanopt.function import autograd, numpy\n",
    "from pymanopt import optimizers\n",
    "\n",
    "def manopt_alpha1(ys, alpha_init, verbosity=1):\n",
    "    N, n = alpha_init.shape\n",
    "    st_Nn = Stiefel(N, n)\n",
    "\n",
    "    @autograd(st_Nn)\n",
    "    def cost(point):\n",
    "        return -anp.sum([anp.linalg.norm(anp.dot(point.T, y), 'nuc') for y in ys])/len(ys)\n",
    "\n",
    "    problem = Problem(st_Nn, cost=cost)\n",
    "    optimizer = optimizers.SteepestDescent(verbosity=verbosity)\n",
    "    res = optimizer.run(problem, initial_point=alpha_init).point\n",
    "\n",
    "    # print('nuc_cost of initial alpha', cost(alpha_init), 'nuc_cost of final alpha', cost(res))\n",
    "    # print('projection_cost of initial alpha', projection_cost(alpha_init, ys), 'projection_cost of final alpha', projection_cost(res, ys))\n",
    "    return res\n",
    "\n",
    "def manopt_alpha2(ys, alpha_init, verbosity=1):\n",
    "    N, n = alpha_init.shape\n",
    "    st_Nn = Stiefel(N, n)\n",
    "\n",
    "    @autograd(st_Nn)\n",
    "    def cost(point):\n",
    "        Y = anp.dot(anp.transpose(point), ys)\n",
    "        Y = anp.swapaxes(Y, 1, 0)\n",
    "        u, s, vh = anp.linalg.svd(Y, full_matrices=False)\n",
    "        return -anp.sum(s)/len(ys)\n",
    "\n",
    "    problem = Problem(st_Nn, cost=cost)\n",
    "    optimizer = optimizers.SteepestDescent(verbosity=verbosity)\n",
    "    res = optimizer.run(problem, initial_point=anp.array(alpha_init)).point\n",
    "\n",
    "    # print('nuc_cost of initial alpha', cost(alpha_init), 'nuc_cost of final alpha', cost(res))\n",
    "    # print('projection_cost of initial alpha', projection_cost(alpha_init, ys), 'projection_cost of final alpha', projection_cost(res, ys))\n",
    "    return res"
   ]
  },
  {
   "cell_type": "code",
   "execution_count": 19,
   "metadata": {
    "colab": {
     "base_uri": "https://localhost:8080/"
    },
    "executionInfo": {
     "elapsed": 354984,
     "status": "ok",
     "timestamp": 1703873607918,
     "user": {
      "displayName": "H L",
      "userId": "12880377671817957072"
     },
     "user_tz": 300
    },
    "id": "c6p8XakneWof",
    "outputId": "01129a70-8745-482e-d05a-6d1a35c89066"
   },
   "outputs": [
    {
     "name": "stdout",
     "output_type": "stream",
     "text": [
      "Optimizing...\n",
      "Iteration    Cost                       Gradient norm     \n",
      "---------    -----------------------    --------------    \n",
      "   1         -3.6574821471507646e-01    6.68931555e-02    \n",
      "   2         -3.7816227656240808e-01    8.44618316e-02    \n",
      "   3         -3.9996651832323760e-01    3.58912720e-02    \n",
      "   4         -4.0219798555868946e-01    4.27138891e-02    \n",
      "   5         -4.0727973361841507e-01    1.13127138e-02    \n",
      "   6         -4.0752822439418435e-01    1.42102700e-02    \n",
      "   7         -4.0816024022745140e-01    5.06526215e-03    \n",
      "   8         -4.0831577774482508e-01    3.66670567e-03    \n",
      "   9         -4.0841210843044384e-01    6.53883376e-03    \n",
      "  10         -4.0856908822534016e-01    4.27192289e-03    \n",
      "  11         -4.0861537303225109e-01    7.85643646e-03    \n",
      "  12         -4.0875315424559294e-01    4.21594358e-03    \n",
      "  13         -4.0882286823402730e-01    6.89291590e-03    \n",
      "  14         -4.0896794268608044e-01    3.34659866e-03    \n",
      "  15         -4.0912372881806747e-01    6.51163701e-03    \n",
      "  16         -4.0924416817644199e-01    4.06078392e-03    \n",
      "  17         -4.0927736506843881e-01    6.48556318e-03    \n",
      "  18         -4.0937243249979577e-01    3.10838304e-03    \n",
      "  19         -4.0937730214053358e-01    6.37268204e-03    \n",
      "  20         -4.0939589893782713e-01    5.79746295e-03    \n",
      "  21         -4.0945494987790404e-01    3.46680091e-03    \n",
      "  22         -4.0947872187776113e-01    3.22720340e-03    \n",
      "  23         -4.0949902571848068e-01    2.69297760e-03    \n",
      "  24         -4.0950090667365879e-01    3.24313426e-03    \n",
      "  25         -4.0950791480396814e-01    2.80051204e-03    \n",
      "  26         -4.0952653569048825e-01    1.05065372e-03    \n",
      "  27         -4.0952797676695557e-01    1.82718510e-03    \n",
      "  28         -4.0953280060660530e-01    1.23984234e-03    \n",
      "  29         -4.0953713007050324e-01    5.09765719e-04    \n",
      "  30         -4.0953827262525033e-01    7.84216854e-04    \n",
      "  31         -4.0953972647930170e-01    4.38681643e-04    \n",
      "  32         -4.0954031027467785e-01    2.75441356e-04    \n",
      "  33         -4.0954036928478238e-01    4.57084776e-04    \n",
      "  34         -4.0954057982483727e-01    3.59146622e-04    \n",
      "  35         -4.0954091568266182e-01    1.52428200e-04    \n",
      "  36         -4.0954095402628737e-01    2.32320549e-04    \n",
      "  37         -4.0954106639263604e-01    1.13520690e-04    \n",
      "  38         -4.0954110838698787e-01    8.99835115e-05    \n",
      "  39         -4.0954113084623861e-01    9.14640259e-05    \n",
      "  40         -4.0954113953808158e-01    1.03149119e-04    \n",
      "  41         -4.0954116361053333e-01    4.35434446e-05    \n",
      "  42         -4.0954116884449315e-01    5.60118737e-05    \n",
      "  43         -4.0954117724692068e-01    2.62529662e-05    \n",
      "  44         -4.0954117949824004e-01    3.17509598e-05    \n",
      "  45         -4.0954118148973984e-01    2.64351747e-05    \n",
      "  46         -4.0954118346667356e-01    1.01530987e-05    \n",
      "  47         -4.0954118441356402e-01    1.36868303e-05    \n",
      "  48         -4.0954118459519118e-01    1.43866503e-05    \n",
      "  49         -4.0954118507715115e-01    5.36693553e-06    \n",
      "  50         -4.0954118510446991e-01    9.57034782e-06    \n",
      "  51         -4.0954118520101990e-01    7.35973255e-06    \n",
      "  52         -4.0954118532834216e-01    3.87220356e-06    \n",
      "  53         -4.0954118536996470e-01    3.00311513e-06    \n",
      "  54         -4.0954118539409978e-01    2.65522140e-06    \n",
      "  55         -4.0954118541524931e-01    1.47222620e-06    \n",
      "  56         -4.0954118542553192e-01    1.33170292e-06    \n",
      "  57         -4.0954118543050405e-01    1.57829079e-06    \n",
      "  58         -4.0954118543626533e-01    1.09703722e-06    \n",
      "  59         -4.0954118543865237e-01    1.04877829e-06    \n",
      "  60         -4.0954118544075963e-01    8.54429333e-07    \n",
      "Terminated - min grad norm reached after 60 iterations, 81.06 seconds.\n",
      "\n",
      "Optimizing...\n",
      "Iteration    Cost                       Gradient norm     \n",
      "---------    -----------------------    --------------    \n",
      "   1         -3.6574821471507646e-01    6.68931555e-02    \n",
      "   2         -3.7816227656240825e-01    8.44618316e-02    \n",
      "   3         -3.9996651832323754e-01    3.58912720e-02    \n",
      "   4         -4.0219798555868974e-01    4.27138891e-02    \n",
      "   5         -4.0727973361841535e-01    1.13127138e-02    \n",
      "   6         -4.0752822439418401e-01    1.42102700e-02    \n",
      "   7         -4.0816024022745057e-01    5.06526215e-03    \n",
      "   8         -4.0831577774482469e-01    3.66670567e-03    \n",
      "   9         -4.0841210843044379e-01    6.53883376e-03    \n",
      "  10         -4.0856908822534199e-01    4.27192289e-03    \n",
      "  11         -4.0861537303224971e-01    7.85643646e-03    \n",
      "  12         -4.0875315424558684e-01    4.21594358e-03    \n",
      "  13         -4.0882286823402325e-01    6.89291590e-03    \n",
      "  14         -4.0896794268605552e-01    3.34659866e-03    \n",
      "  15         -4.0912372881785536e-01    6.51163702e-03    \n",
      "  16         -4.0924416817644416e-01    4.06078391e-03    \n",
      "  17         -4.0927736506787998e-01    6.48556322e-03    \n",
      "  18         -4.0937243249858052e-01    3.10838312e-03    \n",
      "  19         -4.0937730214009471e-01    6.37268193e-03    \n",
      "  20         -4.0939589894018774e-01    5.79746275e-03    \n",
      "  21         -4.0945494988590408e-01    3.46680032e-03    \n",
      "  22         -4.0947872185516243e-01    3.22720516e-03    \n",
      "  23         -4.0949902583182335e-01    2.69296744e-03    \n",
      "  24         -4.0950090577474962e-01    3.24319711e-03    \n",
      "  25         -4.0950791042945583e-01    2.80081902e-03    \n",
      "  26         -4.0952652863889977e-01    1.05171958e-03    \n",
      "  27         -4.0952797905190491e-01    1.82558190e-03    \n",
      "  28         -4.0953282658585122e-01    1.23421312e-03    \n",
      "  29         -4.0953711067286563e-01    5.20742891e-04    \n",
      "  30         -4.0953823329668654e-01    7.73802084e-04    \n",
      "  31         -4.0953966270414122e-01    4.44075221e-04    \n",
      "  32         -4.0954027780718766e-01    2.63624254e-04    \n",
      "  33         -4.0954031161584736e-01    4.93101326e-04    \n",
      "  34         -4.0954043955361297e-01    4.40039993e-04    \n",
      "  35         -4.0954082166712391e-01    2.23657096e-04    \n",
      "  36         -4.0954096873628654e-01    1.42015722e-04    \n",
      "  37         -4.0954098374092335e-01    2.25303157e-04    \n",
      "  38         -4.0954103698955330e-01    1.74947910e-04    \n",
      "  39         -4.0954111443263735e-01    8.62295968e-05    \n",
      "  40         -4.0954113503661099e-01    8.81112472e-05    \n",
      "  41         -4.0954114373682904e-01    9.75504393e-05    \n",
      "  42         -4.0954116659665335e-01    3.61625988e-05    \n",
      "  43         -4.0954117004535362e-01    6.22561513e-05    \n",
      "  44         -4.0954117914685351e-01    2.26063949e-05    \n",
      "  45         -4.0954118135091377e-01    1.84057125e-05    \n",
      "  46         -4.0954118237293680e-01    2.40117871e-05    \n",
      "  47         -4.0954118386603672e-01    1.26800270e-05    \n",
      "  48         -4.0954118439721737e-01    1.10220819e-05    \n",
      "  49         -4.0954118476423290e-01    8.83861611e-06    \n",
      "  50         -4.0954118498424968e-01    7.90323205e-06    \n",
      "  51         -4.0954118517421012e-01    4.53618783e-06    \n",
      "  52         -4.0954118526849598e-01    3.86079195e-06    \n",
      "  53         -4.0954118531244882e-01    4.95323953e-06    \n",
      "  54         -4.0954118537492717e-01    2.73208999e-06    \n",
      "  55         -4.0954118539975137e-01    2.08940322e-06    \n",
      "  56         -4.0954118541117379e-01    2.43032910e-06    \n",
      "  57         -4.0954118542544032e-01    1.57907157e-06    \n",
      "  58         -4.0954118542800966e-01    1.96956679e-06    \n",
      "  59         -4.0954118543569112e-01    1.01562489e-06    \n",
      "  60         -4.0954118543910495e-01    6.65555607e-07    \n",
      "Terminated - min grad norm reached after 60 iterations, 2.04 seconds.\n",
      "\n"
     ]
    },
    {
     "data": {
      "text/plain": [
       "False"
      ]
     },
     "execution_count": 19,
     "metadata": {},
     "output_type": "execute_result"
    }
   ],
   "source": [
    "x1 = manopt_alpha1(ys, a1, verbosity=2)\n",
    "x2 = manopt_alpha2(ys, a1, verbosity=2)\n",
    "np.allclose(x1, x2) # seems to not give the same result"
   ]
  }
 ],
 "metadata": {
  "colab": {
   "authorship_tag": "ABX9TyPiKXYcfw6hCC6tTnkXtQS0",
   "provenance": []
  },
  "kernelspec": {
   "display_name": "Python 3 (ipykernel)",
   "language": "python",
   "name": "python3"
  },
  "language_info": {
   "codemirror_mode": {
    "name": "ipython",
    "version": 3
   },
   "file_extension": ".py",
   "mimetype": "text/x-python",
   "name": "python",
   "nbconvert_exporter": "python",
   "pygments_lexer": "ipython3",
   "version": "3.10.14"
  }
 },
 "nbformat": 4,
 "nbformat_minor": 4
}
