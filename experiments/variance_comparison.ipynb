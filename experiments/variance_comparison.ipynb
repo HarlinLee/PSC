{
 "cells": [
  {
   "cell_type": "code",
   "execution_count": 1,
   "metadata": {},
   "outputs": [],
   "source": [
    "import sys\n",
    "\n",
    "sys.path.insert(0, '../../PSC')"
   ]
  },
  {
   "cell_type": "code",
   "execution_count": 2,
   "metadata": {
    "id": "t81HrzdhIKdZ"
   },
   "outputs": [],
   "source": [
    "import numpy as np\n",
    "import pandas as pd\n",
    "import matplotlib.pyplot as plt"
   ]
  },
  {
   "cell_type": "code",
   "execution_count": 3,
   "metadata": {
    "colab": {
     "base_uri": "https://localhost:8080/"
    },
    "id": "C6kT8Fg90rU4",
    "outputId": "78a868a4-ac7c-4c44-8b89-ea8d31401666"
   },
   "outputs": [
    {
     "name": "stderr",
     "output_type": "stream",
     "text": [
      "INFO: Using numpy backend\n"
     ]
    }
   ],
   "source": [
    "from PSC import projections\n",
    "from PSC import utils\n",
    "from PSC import comparison"
   ]
  },
  {
   "cell_type": "markdown",
   "metadata": {
    "id": "zNz_la7823KY"
   },
   "source": [
    "# Comparison Visualization"
   ]
  },
  {
   "cell_type": "code",
   "execution_count": 4,
   "metadata": {
    "id": "eBVoP6kbgGFC"
   },
   "outputs": [],
   "source": [
    "base_alpha = np.array([[1,0],[0,1],[0,0]])"
   ]
  },
  {
   "cell_type": "code",
   "execution_count": 5,
   "metadata": {
    "id": "hVp5ONpBc7AR"
   },
   "outputs": [],
   "source": [
    "N=3\n",
    "n=2\n",
    "k=3\n",
    "s=100\n",
    "concentration=0.05\n",
    "epsilon=0.5\n",
    "sample=utils.sphere_point_cloud(N,n,s,epsilon, alpha=base_alpha)"
   ]
  },
  {
   "cell_type": "code",
   "execution_count": 6,
   "metadata": {
    "colab": {
     "base_uri": "https://localhost:8080/"
    },
    "id": "iYntCwUBc-mU",
    "outputId": "5f3c7a6c-97ed-4df6-c3ab-78f35c133304"
   },
   "outputs": [
    {
     "name": "stdout",
     "output_type": "stream",
     "text": [
      "Optimizing...\n",
      "Terminated - min grad norm reached after 21 iterations, 0.04 seconds.\n",
      "\n"
     ]
    }
   ],
   "source": [
    "projected=comparison.PSC_points(sample['points'], n)"
   ]
  },
  {
   "cell_type": "code",
   "execution_count": 7,
   "metadata": {
    "colab": {
     "base_uri": "https://localhost:8080/"
    },
    "id": "czng8EVcj_yb",
    "outputId": "4a09269b-1912-4181-fcb2-fae2e40c4437"
   },
   "outputs": [
    {
     "ename": "AttributeError",
     "evalue": "'HypersphereMetric' object has no attribute 'metric'",
     "output_type": "error",
     "traceback": [
      "\u001b[0;31m---------------------------------------------------------------------------\u001b[0m",
      "\u001b[0;31mAttributeError\u001b[0m                            Traceback (most recent call last)",
      "Cell \u001b[0;32mIn[7], line 1\u001b[0m\n\u001b[0;32m----> 1\u001b[0m geodesic_projected \u001b[38;5;241m=\u001b[39m \u001b[43mcomparison\u001b[49m\u001b[38;5;241;43m.\u001b[39;49m\u001b[43mPGA_points\u001b[49m\u001b[43m(\u001b[49m\u001b[43msample\u001b[49m\u001b[43m[\u001b[49m\u001b[38;5;124;43m'\u001b[39;49m\u001b[38;5;124;43mpoints\u001b[39;49m\u001b[38;5;124;43m'\u001b[39;49m\u001b[43m]\u001b[49m\u001b[38;5;241;43m.\u001b[39;49m\u001b[43mreshape\u001b[49m\u001b[43m(\u001b[49m\u001b[38;5;241;43m100\u001b[39;49m\u001b[43m,\u001b[49m\u001b[38;5;241;43m3\u001b[39;49m\u001b[43m)\u001b[49m\u001b[43m,\u001b[49m\u001b[38;5;241;43m2\u001b[39;49m\u001b[43m)\u001b[49m\n",
      "File \u001b[0;32m~/Desktop/PSC/experiments/../../PSC/PSC/comparison.py:58\u001b[0m, in \u001b[0;36mPGA_points\u001b[0;34m(points, d)\u001b[0m\n\u001b[1;32m     56\u001b[0m N \u001b[38;5;241m=\u001b[39m points\u001b[38;5;241m.\u001b[39mshape[\u001b[38;5;241m1\u001b[39m]\n\u001b[1;32m     57\u001b[0m st_kN \u001b[38;5;241m=\u001b[39m Hypersphere(N \u001b[38;5;241m-\u001b[39m \u001b[38;5;241m1\u001b[39m)\n\u001b[0;32m---> 58\u001b[0m PGA \u001b[38;5;241m=\u001b[39m \u001b[43mPGA_tangent_vecs\u001b[49m\u001b[43m(\u001b[49m\u001b[43mpoints\u001b[49m\u001b[43m,\u001b[49m\u001b[43m \u001b[49m\u001b[43md\u001b[49m\u001b[43m)\u001b[49m\n\u001b[1;32m     59\u001b[0m \u001b[38;5;28;01mreturn\u001b[39;00m st_kN\u001b[38;5;241m.\u001b[39mmetric\u001b[38;5;241m.\u001b[39mexp(PGA[\u001b[38;5;241m0\u001b[39m], PGA[\u001b[38;5;241m1\u001b[39m])\n",
      "File \u001b[0;32m~/Desktop/PSC/experiments/../../PSC/PSC/comparison.py:33\u001b[0m, in \u001b[0;36mPGA_tangent_vecs\u001b[0;34m(points, d)\u001b[0m\n\u001b[1;32m     30\u001b[0m N \u001b[38;5;241m=\u001b[39m points\u001b[38;5;241m.\u001b[39mshape[\u001b[38;5;241m1\u001b[39m]\n\u001b[1;32m     31\u001b[0m st_kN \u001b[38;5;241m=\u001b[39m Hypersphere(N \u001b[38;5;241m-\u001b[39m \u001b[38;5;241m1\u001b[39m)\n\u001b[0;32m---> 33\u001b[0m mean_estimate \u001b[38;5;241m=\u001b[39m \u001b[43mfrechetmean\u001b[49m\u001b[43m(\u001b[49m\u001b[43mpoints\u001b[49m\u001b[43m,\u001b[49m\u001b[43m \u001b[49m\u001b[43mN\u001b[49m\u001b[43m,\u001b[49m\u001b[43m \u001b[49m\u001b[38;5;241;43m1\u001b[39;49m\u001b[43m)\u001b[49m\u001b[38;5;241m.\u001b[39mreshape(N, )  \u001b[38;5;66;03m# Need shape (N,) for mean_estimate in TPCA fit\u001b[39;00m\n\u001b[1;32m     35\u001b[0m tpca \u001b[38;5;241m=\u001b[39m TangentPCA(st_kN\u001b[38;5;241m.\u001b[39mmetric, n_components\u001b[38;5;241m=\u001b[39md)\n\u001b[1;32m     37\u001b[0m tpca\u001b[38;5;241m.\u001b[39mfit(points\u001b[38;5;241m.\u001b[39mreshape(s, N), base_point\u001b[38;5;241m=\u001b[39mmean_estimate)\n",
      "File \u001b[0;32m~/Desktop/PSC/experiments/../../PSC/PSC/comparison.py:77\u001b[0m, in \u001b[0;36mfrechetmean\u001b[0;34m(points, d, k)\u001b[0m\n\u001b[1;32m     75\u001b[0m \u001b[38;5;28;01melse\u001b[39;00m:\n\u001b[1;32m     76\u001b[0m   manifold\u001b[38;5;241m=\u001b[39mStiefel(d,k)\n\u001b[0;32m---> 77\u001b[0m mean \u001b[38;5;241m=\u001b[39m \u001b[43mFrechetMean\u001b[49m\u001b[43m(\u001b[49m\u001b[43mmanifold\u001b[49m\u001b[38;5;241;43m.\u001b[39;49m\u001b[43mmetric\u001b[49m\u001b[43m,\u001b[49m\u001b[43m \u001b[49m\u001b[43mmax_iter\u001b[49m\u001b[38;5;241;43m=\u001b[39;49m\u001b[38;5;241;43m100\u001b[39;49m\u001b[43m)\u001b[49m\n\u001b[1;32m     78\u001b[0m mean\u001b[38;5;241m.\u001b[39mfit(points)\n\u001b[1;32m     79\u001b[0m \u001b[38;5;28;01mreturn\u001b[39;00m mean\u001b[38;5;241m.\u001b[39mestimate_\u001b[38;5;241m.\u001b[39mreshape(d,\u001b[38;5;241m1\u001b[39m)\n",
      "File \u001b[0;32m~/anaconda3/envs/psc/lib/python3.10/site-packages/geomstats/learning/frechet_mean.py:653\u001b[0m, in \u001b[0;36mFrechetMean.__new__\u001b[0;34m(cls, space, **kwargs)\u001b[0m\n\u001b[1;32m    651\u001b[0m \u001b[38;5;28;01mdef\u001b[39;00m \u001b[38;5;21m__new__\u001b[39m(\u001b[38;5;28mcls\u001b[39m, space, \u001b[38;5;241m*\u001b[39m\u001b[38;5;241m*\u001b[39mkwargs):\n\u001b[1;32m    652\u001b[0m \u001b[38;5;250m    \u001b[39m\u001b[38;5;124;03m\"\"\"Interface for instantiating proper algorithm.\"\"\"\u001b[39;00m\n\u001b[0;32m--> 653\u001b[0m     \u001b[38;5;28;01mif\u001b[39;00m \u001b[38;5;28misinstance\u001b[39m(\u001b[43mspace\u001b[49m\u001b[38;5;241;43m.\u001b[39;49m\u001b[43mmetric\u001b[49m, HypersphereMetric) \u001b[38;5;129;01mand\u001b[39;00m space\u001b[38;5;241m.\u001b[39mdim \u001b[38;5;241m==\u001b[39m \u001b[38;5;241m1\u001b[39m:\n\u001b[1;32m    654\u001b[0m         \u001b[38;5;28;01mreturn\u001b[39;00m CircleMean(space, \u001b[38;5;241m*\u001b[39m\u001b[38;5;241m*\u001b[39mkwargs)\n\u001b[1;32m    656\u001b[0m     \u001b[38;5;28;01melif\u001b[39;00m _is_linear_metric(space\u001b[38;5;241m.\u001b[39mmetric):\n",
      "\u001b[0;31mAttributeError\u001b[0m: 'HypersphereMetric' object has no attribute 'metric'"
     ]
    }
   ],
   "source": [
    "geodesic_projected = comparison.PGA_points(sample['points'].reshape(s, N), n)"
   ]
  },
  {
   "cell_type": "code",
   "execution_count": null,
   "metadata": {
    "id": "JBqYzaWHkd1j"
   },
   "outputs": [],
   "source": [
    "geodesic_projected_mean = comparison.frechetmean(geodesic_projected.reshape(s,N),3,1)"
   ]
  },
  {
   "cell_type": "code",
   "execution_count": null,
   "metadata": {
    "colab": {
     "base_uri": "https://localhost:8080/"
    },
    "id": "BOLrhqcndmzP",
    "outputId": "8e014455-a529-4bd7-ad5c-ff6ec5642cd3"
   },
   "outputs": [],
   "source": [
    "projected_mean=comparison.frechetmean(projected[0].reshape(s,N),3,1)\n",
    "mean=comparison.frechetmean(sample['points'].reshape(s,N),3,1)"
   ]
  },
  {
   "cell_type": "code",
   "execution_count": null,
   "metadata": {
    "colab": {
     "base_uri": "https://localhost:8080/",
     "height": 817
    },
    "id": "K84L1Lx1dDmb",
    "outputId": "6b2707a0-033e-4292-9a3b-f4654b285e55"
   },
   "outputs": [],
   "source": [
    "X=projected[0] #in black\n",
    "Y=sample['points'] #in blue\n",
    "Z=geodesic_projected\n",
    "title='PGA-PSC Comparison'\n",
    "fig = plt.figure(figsize=(8, 8))\n",
    "ax = fig.add_subplot(111, projection='3d')\n",
    "u, v = np.mgrid[0: 2 * np.pi : 100j, 0: np.pi :100j]\n",
    "xx = np.cos(u) * np.sin(v)\n",
    "yy = np.sin(u) * np.sin(v)\n",
    "zz = np.cos(v)\n",
    "ax.plot_surface(xx, yy, zz, rstride=1, cstride=1, alpha=0.1, linewidth=0)\n",
    "ax.scatter(Y[:, 0], Y[:, 1], Y[:, 2], c='blue', s=20) #Original points\n",
    "ax.scatter(X[:, 0], X[:, 1], X[:, 2], c='black', s=90, marker=\">\") #Stiefel projected\n",
    "ax.scatter(Z[:, 0], Z[:, 1], Z[:, 2], c='purple', s=20, marker=\"s\") #Geodesic projected\n",
    "#ax.scatter(geodesic_projected_mean[0], geodesic_projected_mean[1], geodesic_projected_mean[2], c='purple', s=20)\n",
    "#ax.scatter(projected_mean[0], projected_mean[1], projected_mean[2], c='red', s=20)\n",
    "#ax.scatter(mean[0], mean[1], mean[2], c='green', s=90, marker=\">\")\n",
    "ax.set_xlabel('Dimension 1', fontsize=16)\n",
    "ax.set_ylabel('Dimension 2', fontsize=16)\n",
    "ax.set_zlabel('Dimension 3', fontsize=16)\n",
    "ax.set_xlim([-1,1])\n",
    "ax.set_ylim([-1,1])\n",
    "ax.set_zlim([-1,1])\n",
    "ax.set_box_aspect((1,1,1))\n",
    "plt.title(title, fontsize=20)\n",
    "plt.tight_layout()\n",
    "plt.show()"
   ]
  },
  {
   "cell_type": "markdown",
   "metadata": {
    "id": "R7dMimNywy1D"
   },
   "source": [
    "# Explained Variance Comparison with PGA"
   ]
  },
  {
   "cell_type": "code",
   "execution_count": null,
   "metadata": {
    "colab": {
     "base_uri": "https://localhost:8080/"
    },
    "id": "rWghzumbr817",
    "outputId": "8242072c-4102-4c22-e50a-dbfb5422f7fc"
   },
   "outputs": [],
   "source": [
    "N=11\n",
    "n=6\n",
    "s=200\n",
    "eps_vec=[0.01,0.05,0.1,0.5]\n",
    "n_components=5\n",
    "t=100\n",
    "var_data = comparison.output_var_df(N, n, s, t, eps_vec, n_components)\n",
    "var_data.to_pickle(\"var_data.pkl\")"
   ]
  },
  {
   "cell_type": "code",
   "execution_count": null,
   "metadata": {
    "id": "RjurOLP924v4"
   },
   "outputs": [],
   "source": [
    "#var_data=pd.read_pickle(\"var_data.pkl\")"
   ]
  },
  {
   "cell_type": "code",
   "execution_count": null,
   "metadata": {
    "id": "5NiQa4pD-ibS"
   },
   "outputs": [],
   "source": [
    "from plotnine import ggplot, aes, geom_line, geom_point, labs, geom_smooth, facet_grid, facet_wrap, labeller, element_text, theme\n",
    "\n",
    "def plot_averages(var_data, output=\"show\"):\n",
    "  averaged_variances = var_data.groupby(['epsilon','dims'],as_index=False)[['PSC','PGA']].mean()\n",
    "  scores_tall = averaged_variances.melt(id_vars=['dims','epsilon'], value_vars=['PSC','PGA'])\n",
    "  def epsilon_labels(s):\n",
    "    return r'$\\epsilon$ = ' + str(s)\n",
    "  plot=(\n",
    "  ggplot(scores_tall, aes('dims', 'value', color='variable')) + geom_line(size=2)+ facet_wrap('~epsilon', labeller=labeller(cols=epsilon_labels))+labs(x=\"Principal Components (Dimension)\",y=\"Variance Ratio\",color=\"Method\")\n",
    "  )\n",
    "  if output==\"save\":\n",
    "    plot.save(\"var_ratio.png\")\n",
    "  else:\n",
    "    plot.draw(show=True)"
   ]
  },
  {
   "cell_type": "code",
   "execution_count": null,
   "metadata": {
    "colab": {
     "base_uri": "https://localhost:8080/"
    },
    "id": "_PtEaLsY1PY-",
    "outputId": "40015f88-5161-4579-c18e-63944eb5fed0"
   },
   "outputs": [],
   "source": [
    "plot_averages(var_data, output=\"save\")"
   ]
  }
 ],
 "metadata": {
  "colab": {
   "collapsed_sections": [
    "zNz_la7823KY"
   ],
   "provenance": []
  },
  "kernelspec": {
   "display_name": "Python 3 (ipykernel)",
   "language": "python",
   "name": "python3"
  },
  "language_info": {
   "codemirror_mode": {
    "name": "ipython",
    "version": 3
   },
   "file_extension": ".py",
   "mimetype": "text/x-python",
   "name": "python",
   "nbconvert_exporter": "python",
   "pygments_lexer": "ipython3",
   "version": "3.10.13"
  }
 },
 "nbformat": 4,
 "nbformat_minor": 4
}
